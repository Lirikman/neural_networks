{
  "nbformat": 4,
  "nbformat_minor": 0,
  "metadata": {
    "colab": {
      "provenance": [],
      "gpuType": "T4",
      "authorship_tag": "ABX9TyOo5E3LuNK5izM0rigSr53e",
      "include_colab_link": true
    },
    "kernelspec": {
      "name": "python3",
      "display_name": "Python 3"
    },
    "language_info": {
      "name": "python"
    }
  },
  "cells": [
    {
      "cell_type": "markdown",
      "metadata": {
        "id": "view-in-github",
        "colab_type": "text"
      },
      "source": [
        "<a href=\"https://colab.research.google.com/github/Lirikman/neural_networks/blob/main/practical_tasks.ipynb\" target=\"_parent\"><img src=\"https://colab.research.google.com/assets/colab-badge.svg\" alt=\"Open In Colab\"/></a>"
      ]
    },
    {
      "cell_type": "markdown",
      "source": [
        "# Задача 1. Обнаружение фальшивых новостей"
      ],
      "metadata": {
        "id": "AswtPCfUF0Bh"
      }
    },
    {
      "cell_type": "markdown",
      "source": [
        "Импортируем необходимые библиотеки"
      ],
      "metadata": {
        "id": "isPzq50sXJVr"
      }
    },
    {
      "cell_type": "code",
      "source": [
        "!pip install scikit-learn==1.3.1"
      ],
      "metadata": {
        "colab": {
          "base_uri": "https://localhost:8080/"
        },
        "id": "w4MA4iRxyaTs",
        "outputId": "de641145-47c1-4bfa-d179-c6aeba80b58e"
      },
      "execution_count": null,
      "outputs": [
        {
          "output_type": "stream",
          "name": "stdout",
          "text": [
            "Requirement already satisfied: scikit-learn==1.3.1 in /usr/local/lib/python3.10/dist-packages (1.3.1)\n",
            "Requirement already satisfied: numpy<2.0,>=1.17.3 in /usr/local/lib/python3.10/dist-packages (from scikit-learn==1.3.1) (1.26.4)\n",
            "Requirement already satisfied: scipy>=1.5.0 in /usr/local/lib/python3.10/dist-packages (from scikit-learn==1.3.1) (1.13.1)\n",
            "Requirement already satisfied: joblib>=1.1.1 in /usr/local/lib/python3.10/dist-packages (from scikit-learn==1.3.1) (1.4.2)\n",
            "Requirement already satisfied: threadpoolctl>=2.0.0 in /usr/local/lib/python3.10/dist-packages (from scikit-learn==1.3.1) (3.5.0)\n"
          ]
        }
      ]
    },
    {
      "cell_type": "code",
      "source": [
        "import os\n",
        "import numpy as np\n",
        "import pandas as pd\n",
        "import seaborn as sns\n",
        "import matplotlib.pyplot as plt\n",
        "from sklearn.linear_model import LogisticRegression\n",
        "from sklearn.model_selection import train_test_split\n",
        "from sklearn.feature_extraction.text import TfidfVectorizer\n",
        "from sklearn.naive_bayes import MultinomialNB, ComplementNB\n",
        "from sklearn.metrics import accuracy_score, confusion_matrix, roc_curve, roc_auc_score\n",
        "import nltk\n",
        "from nltk.corpus import stopwords\n",
        "from nltk.tokenize import word_tokenize\n",
        "import string\n",
        "from sklearn import svm\n",
        "import time"
      ],
      "metadata": {
        "id": "8vR-l0OrXM3V"
      },
      "execution_count": null,
      "outputs": []
    },
    {
      "cell_type": "markdown",
      "source": [
        "### Загрузка данных"
      ],
      "metadata": {
        "id": "BCXcJ2lmWwbT"
      }
    },
    {
      "cell_type": "markdown",
      "source": [
        "Загрузим готовый датасет с реальными и фейковыми новостями, и на его основе построим модель класса машинного обучения  используя библиотеку sklearn, а также обучим модель отличать реальные новости от фейковых."
      ],
      "metadata": {
        "id": "C5lqWjt-D5r_"
      }
    },
    {
      "cell_type": "code",
      "source": [
        "!wget https://storage.yandexcloud.net/academy.ai/practica/fake_news.csv # загружаем данные"
      ],
      "metadata": {
        "colab": {
          "base_uri": "https://localhost:8080/"
        },
        "id": "b44ltP14Wz_E",
        "outputId": "f668aca0-515e-49ae-e52c-019005a1a81a"
      },
      "execution_count": null,
      "outputs": [
        {
          "output_type": "stream",
          "name": "stdout",
          "text": [
            "--2025-01-08 07:00:59--  https://storage.yandexcloud.net/academy.ai/practica/fake_news.csv\n",
            "Resolving storage.yandexcloud.net (storage.yandexcloud.net)... 213.180.193.243, 2a02:6b8::1d9\n",
            "Connecting to storage.yandexcloud.net (storage.yandexcloud.net)|213.180.193.243|:443... connected.\n",
            "HTTP request sent, awaiting response... 200 OK\n",
            "Length: 30696129 (29M) [text/csv]\n",
            "Saving to: ‘fake_news.csv’\n",
            "\n",
            "fake_news.csv       100%[===================>]  29.27M  13.1MB/s    in 2.2s    \n",
            "\n",
            "2025-01-08 07:01:02 (13.1 MB/s) - ‘fake_news.csv’ saved [30696129/30696129]\n",
            "\n"
          ]
        }
      ]
    },
    {
      "cell_type": "code",
      "source": [
        "df = pd.read_csv(\"./fake_news.csv\") # wget скачал в рабочую директорию файл с датасетом и мы его уже можем использовать"
      ],
      "metadata": {
        "id": "b4R3iK1qXDlE"
      },
      "execution_count": null,
      "outputs": []
    },
    {
      "cell_type": "markdown",
      "source": [
        "Проверяем всё ли загрузилось:"
      ],
      "metadata": {
        "id": "ltkv3SjjXVQV"
      }
    },
    {
      "cell_type": "code",
      "source": [
        "print(df.head(5))"
      ],
      "metadata": {
        "colab": {
          "base_uri": "https://localhost:8080/"
        },
        "id": "8sniFRqfXX9u",
        "outputId": "9a9d5d11-e624-4b37-8169-62009e342c5a"
      },
      "execution_count": null,
      "outputs": [
        {
          "output_type": "stream",
          "name": "stdout",
          "text": [
            "   Unnamed: 0                                              title  \\\n",
            "0        8476                       You Can Smell Hillary’s Fear   \n",
            "1       10294  Watch The Exact Moment Paul Ryan Committed Pol...   \n",
            "2        3608        Kerry to go to Paris in gesture of sympathy   \n",
            "3       10142  Bernie supporters on Twitter erupt in anger ag...   \n",
            "4         875   The Battle of New York: Why This Primary Matters   \n",
            "\n",
            "                                                text label  \n",
            "0  Daniel Greenfield, a Shillman Journalism Fello...  FAKE  \n",
            "1  Google Pinterest Digg Linkedin Reddit Stumbleu...  FAKE  \n",
            "2  U.S. Secretary of State John F. Kerry said Mon...  REAL  \n",
            "3  — Kaydee King (@KaydeeKing) November 9, 2016 T...  FAKE  \n",
            "4  It's primary day in New York and front-runners...  REAL  \n"
          ]
        }
      ]
    },
    {
      "cell_type": "markdown",
      "source": [
        " Посмотрим информацию о загруженном датасете:"
      ],
      "metadata": {
        "id": "UszMZwysA1f5"
      }
    },
    {
      "cell_type": "code",
      "source": [
        "print(df.info())"
      ],
      "metadata": {
        "colab": {
          "base_uri": "https://localhost:8080/"
        },
        "id": "YuroyzhHAvNl",
        "outputId": "a6a36647-8b86-4f3e-b180-10a6b1568d5b"
      },
      "execution_count": null,
      "outputs": [
        {
          "output_type": "stream",
          "name": "stdout",
          "text": [
            "<class 'pandas.core.frame.DataFrame'>\n",
            "RangeIndex: 6335 entries, 0 to 6334\n",
            "Data columns (total 4 columns):\n",
            " #   Column      Non-Null Count  Dtype \n",
            "---  ------      --------------  ----- \n",
            " 0   Unnamed: 0  6335 non-null   int64 \n",
            " 1   title       6335 non-null   object\n",
            " 2   text        6335 non-null   object\n",
            " 3   label       6335 non-null   object\n",
            "dtypes: int64(1), object(3)\n",
            "memory usage: 198.1+ KB\n",
            "None\n"
          ]
        }
      ]
    },
    {
      "cell_type": "markdown",
      "source": [
        "Из полученной информации видно, что датасет состоит и 6335 строк, и 4 колонок - #, tilte, text, label.\n",
        "\n",
        "Благодаря тому, что данные уже были подготовлены, предварительной обработки они не требуют."
      ],
      "metadata": {
        "id": "V_ObE8BeA-CN"
      }
    },
    {
      "cell_type": "markdown",
      "source": [
        "### Определение признаков и меток"
      ],
      "metadata": {
        "id": "F9zyice7alld"
      }
    },
    {
      "cell_type": "markdown",
      "source": [
        "Теперь нужно определить признаки (входные данные) и метки (выходные данные). С библиотекой Pandas можно легко «нарезать» таблицу и выбрать определённые строки/столбцы:"
      ],
      "metadata": {
        "id": "0Fqhkn90aTEV"
      }
    },
    {
      "cell_type": "code",
      "source": [
        "X = df['title'] + '. ' + df['text'] # Объединим колонки Заголовок + Текст\n",
        "y = df['label'] # Выберем только последнюю колонку"
      ],
      "metadata": {
        "id": "kWzO1SQ4aeC2"
      },
      "execution_count": null,
      "outputs": []
    },
    {
      "cell_type": "markdown",
      "source": [
        "После того, как мы выбрали нужные признаки и метки, их можно разделить на тренировочные и тестовые наборы, используя функцию train_test_split():"
      ],
      "metadata": {
        "id": "PvTLb3Mgf5VK"
      }
    },
    {
      "cell_type": "code",
      "source": [
        "# test_size показывает, какой объем данных нужно выделить для тестового набора\n",
        "# Random_state — просто сид для случайной генерации\n",
        "# Этот параметр можно использовать для воссоздания определённого результата:\n",
        "X_train, X_test, y_train, y_test = train_test_split(X, y, test_size=0.20, random_state=27)"
      ],
      "metadata": {
        "id": "aVcy3tdTgHc3"
      },
      "execution_count": null,
      "outputs": []
    },
    {
      "cell_type": "markdown",
      "source": [
        "Чтобы убедиться в правильности обработки данных, выведем их и посмотрим:"
      ],
      "metadata": {
        "id": "mekqzQ1ZgQAH"
      }
    },
    {
      "cell_type": "code",
      "source": [
        "print(X_train)\n",
        "print(y_train)"
      ],
      "metadata": {
        "colab": {
          "base_uri": "https://localhost:8080/"
        },
        "id": "H84oPtQIgS0W",
        "outputId": "e664cf8d-8a23-4b19-9db7-7cddc6b1cc09"
      },
      "execution_count": null,
      "outputs": [
        {
          "output_type": "stream",
          "name": "stdout",
          "text": [
            "4239    US/Russian Relations Sour Further As Putin Ref...\n",
            "4824    Dem outcry on abortion measure they failed to ...\n",
            "1110    The Latest ABC/WaPo Poll Has the Hillary Campa...\n",
            "2381    Hillary Clinton Wants a Strong Russia. Wait, w...\n",
            "3655    Why Isn’t NSA Surveillance an Election Issue?....\n",
            "                              ...                        \n",
            "5413    The media needs to stop telling this lie about...\n",
            "4848    Election Heats Up: Kerry Heads To The Poles…In...\n",
            "3912    Insider Leaks Bill’s 2-Word Nickname For Hilla...\n",
            "3768    Poll: Trump Reaches 50 Percent Support Nationa...\n",
            "5139    American democracy is doomed. America's consti...\n",
            "Length: 5068, dtype: object\n",
            "4239    FAKE\n",
            "4824    REAL\n",
            "1110    FAKE\n",
            "2381    FAKE\n",
            "3655    FAKE\n",
            "        ... \n",
            "5413    REAL\n",
            "4848    FAKE\n",
            "3912    FAKE\n",
            "3768    REAL\n",
            "5139    REAL\n",
            "Name: label, Length: 5068, dtype: object\n"
          ]
        }
      ]
    },
    {
      "cell_type": "markdown",
      "source": [
        "Рассчитаем сколько всего Реальных и Фейковых новостей содержится в датасете, для это создадим отдельный датафрейм с колонками 'label' и 'quantity', и выведем полученную информацию:"
      ],
      "metadata": {
        "id": "obrxP6qCFg6x"
      }
    },
    {
      "cell_type": "code",
      "source": [
        "df_count = pd.DataFrame(columns=['label', 'quantity'])\n",
        "df_count['label'] = df['label'].unique().tolist()\n",
        "df_count['quantity'] = df_count['label'].apply(lambda x: df[(df['label'] == x)].shape[0])\n",
        "print(df_count.head())"
      ],
      "metadata": {
        "colab": {
          "base_uri": "https://localhost:8080/"
        },
        "id": "bsUzzLXc-KBi",
        "outputId": "4fcaea77-be95-4b42-9793-505726704648"
      },
      "execution_count": null,
      "outputs": [
        {
          "output_type": "stream",
          "name": "stdout",
          "text": [
            "  label  quantity\n",
            "0  FAKE      3164\n",
            "1  REAL      3171\n"
          ]
        }
      ]
    },
    {
      "cell_type": "markdown",
      "source": [
        "По результатм расчёта видно что Фэйковых новостей - 3164 шт, а Реальных - 3171 шт, из чего можно сделать вывод что данные хорошо сбалансированы.\n",
        "\n",
        "Для большей наглядности построим гистограмму с колиеством новостей по меткам:"
      ],
      "metadata": {
        "id": "Oxu390QpF-4a"
      }
    },
    {
      "cell_type": "code",
      "source": [
        "sns.barplot(\n",
        "    x='label',\n",
        "    y='quantity',\n",
        "    data=df_count,\n",
        "    color='blue',)\n",
        "plt.xlabel('Метка')\n",
        "plt.ylabel('Количество новостей')\n",
        "plt.title('Распределение новостей по меткам')\n",
        "plt.show()"
      ],
      "metadata": {
        "colab": {
          "base_uri": "https://localhost:8080/",
          "height": 472
        },
        "id": "pF-nfUQC8RP6",
        "outputId": "3e43847a-d69e-4d73-8e25-6b66e174f5a2"
      },
      "execution_count": null,
      "outputs": [
        {
          "output_type": "display_data",
          "data": {
            "text/plain": [
              "<Figure size 640x480 with 1 Axes>"
            ],
            "image/png": "[encoded data removed]"
          },
          "metadata": {}
        }
      ]
    },
    {
      "cell_type": "markdown",
      "source": [
        "Все данные представлены в текстовом виде, а для обучения модели необходимо преобразовать данные в числовые векторы. Для это воспользуемся методом Term Frequency-Inverse Document Frequency (TF-IDF)."
      ],
      "metadata": {
        "id": "1Ccbn1eB5W7R"
      }
    },
    {
      "cell_type": "markdown",
      "source": [
        "Перед применением TF-IDF к текстовым данным, часто полезно провести предварительную обработку данных. Одним из широко распространенных шагов является удаление стоп-слов - слов, которые не несут смысловой нагрузки (например, предлоги, союзы) и специальных символов."
      ],
      "metadata": {
        "id": "30vH3Mdq72Xj"
      }
    },
    {
      "cell_type": "code",
      "source": [
        "# Загрузка стоп-слов и пунктуации\n",
        "nltk.download('stopwords')\n",
        "nltk.download('punkt_tab')\n",
        "stop_words = set(stopwords.words('russian'))\n",
        "punctuation = set(string.punctuation)\n",
        "\n",
        "def preprocess_text(text):\n",
        "    words = word_tokenize(text.lower())  # Привести к нижнему регистру и токенизировать\n",
        "    filtered_words = [word for word in words if word not in stop_words and word not in punctuation]\n",
        "    return \" \".join(filtered_words)"
      ],
      "metadata": {
        "colab": {
          "base_uri": "https://localhost:8080/"
        },
        "id": "qHEDJpDZ6G7e",
        "outputId": "b2521635-7531-4ffb-c882-e0ff69a22dc3"
      },
      "execution_count": null,
      "outputs": [
        {
          "output_type": "stream",
          "name": "stderr",
          "text": [
            "[nltk_data] Downloading package stopwords to /root/nltk_data...\n",
            "[nltk_data]   Unzipping corpora/stopwords.zip.\n",
            "[nltk_data] Downloading package punkt_tab to /root/nltk_data...\n",
            "[nltk_data]   Unzipping tokenizers/punkt_tab.zip.\n"
          ]
        }
      ]
    },
    {
      "cell_type": "code",
      "source": [
        "# Удаление стоп-слов из тренировочного набора и приведение к нижмену регистру\n",
        "X_train = X_train.apply(preprocess_text)"
      ],
      "metadata": {
        "id": "SSpOcETV8tNX"
      },
      "execution_count": null,
      "outputs": []
    },
    {
      "cell_type": "markdown",
      "source": [
        "Проверим полученный результат после обработки текста:"
      ],
      "metadata": {
        "id": "wA74saxhE0VS"
      }
    },
    {
      "cell_type": "code",
      "source": [
        "print(X_train)"
      ],
      "metadata": {
        "colab": {
          "base_uri": "https://localhost:8080/"
        },
        "id": "IWvT8xYl-Nhk",
        "outputId": "e15c58eb-c738-451f-9d14-477d4791a08a"
      },
      "execution_count": null,
      "outputs": [
        {
          "output_type": "stream",
          "name": "stdout",
          "text": [
            "4239    us/russian relations sour further as putin ref...\n",
            "4824    dem outcry on abortion measure they failed to ...\n",
            "1110    the latest abc/wapo poll has the hillary campa...\n",
            "2381    hillary clinton wants a strong russia wait wha...\n",
            "3655    why isn ’ t nsa surveillance an election issue...\n",
            "                              ...                        \n",
            "5413    the media needs to stop telling this lie about...\n",
            "4848    election heats up kerry heads to the poles…in ...\n",
            "3912    insider leaks bill ’ s 2-word nickname for hil...\n",
            "3768    poll trump reaches 50 percent support national...\n",
            "5139    american democracy is doomed america 's consti...\n",
            "Length: 5068, dtype: object\n"
          ]
        }
      ]
    },
    {
      "cell_type": "code",
      "source": [
        "# Преобразование текстовых данных в матрицу TF-IDF\n",
        "tfidf_vectorizer = TfidfVectorizer()\n",
        "X_train_tfidf = tfidf_vectorizer.fit_transform(X_train)\n",
        "X_test_tfidf = tfidf_vectorizer.transform(X_test)"
      ],
      "metadata": {
        "id": "mYdZ0CGaEI1A"
      },
      "execution_count": null,
      "outputs": []
    },
    {
      "cell_type": "markdown",
      "source": [
        "### Создание и обучение модели"
      ],
      "metadata": {
        "id": "oE5TW0W7rTup"
      }
    },
    {
      "cell_type": "markdown",
      "source": [
        "Построим несколько регрессионных моделей."
      ],
      "metadata": {
        "id": "KbWqByMOrttR"
      }
    },
    {
      "cell_type": "markdown",
      "source": [
        "**1. Логистическая регрессия**"
      ],
      "metadata": {
        "id": "JSuxxMassAE5"
      }
    },
    {
      "cell_type": "markdown",
      "source": [
        "Обучим модель и рассчитаем время выполнения операции:"
      ],
      "metadata": {
        "id": "6tmHQZtSOg5I"
      }
    },
    {
      "cell_type": "code",
      "source": [
        "model = LogisticRegression()\n",
        "start = time.time()\n",
        "model.fit(X_train_tfidf, y_train)\n",
        "end = time.time()\n",
        "LR_train_time = end - start\n",
        "print(f\"Logistic Regression Training Time: {LR_train_time:.2f} seconds\")"
      ],
      "metadata": {
        "colab": {
          "base_uri": "https://localhost:8080/"
        },
        "id": "j-KTKcPEP1Af",
        "outputId": "e810c25f-20c6-431d-dcb4-ee2798052ebc"
      },
      "execution_count": null,
      "outputs": [
        {
          "output_type": "stream",
          "name": "stdout",
          "text": [
            "Logistic Regression Training Time: 3.19 seconds\n"
          ]
        }
      ]
    },
    {
      "cell_type": "markdown",
      "source": [
        "Рассчитаем точность модели:"
      ],
      "metadata": {
        "id": "6iaWKoKBPiIJ"
      }
    },
    {
      "cell_type": "code",
      "source": [
        "# Предсказание категорий для тестовых данных\n",
        "y_pred = model.predict(X_test_tfidf)\n",
        "# Оценка точности модели\n",
        "accuracy_LR = accuracy_score(y_test, y_pred)\n",
        "print(f'Точность модели: {accuracy_LR:.2f}')"
      ],
      "metadata": {
        "colab": {
          "base_uri": "https://localhost:8080/"
        },
        "id": "6l0xNXSSP_ES",
        "outputId": "0f6a6b5c-d6ba-4878-a7a9-de1b81644e84"
      },
      "execution_count": null,
      "outputs": [
        {
          "output_type": "stream",
          "name": "stdout",
          "text": [
            "Точность модели: 0.93\n"
          ]
        }
      ]
    },
    {
      "cell_type": "markdown",
      "source": [
        "Модель отлично справляется с классификацией новостей в обучающем наборе данных. Теперь проверим точность модели по меткам."
      ],
      "metadata": {
        "id": "xQmq2_hdKXBS"
      }
    },
    {
      "cell_type": "code",
      "source": [
        "print(\"Точность с разбивкой по меткам :\")\n",
        "print(\"---------------------------\")\n",
        "label_accs = {}\n",
        "unique_labels = y_test.unique()\n",
        "\n",
        "for label in unique_labels:\n",
        "  label_ind = (y_test == label)\n",
        "  # extract predictions for specific true label\n",
        "  pred_label = model.predict(X_test_tfidf[label_ind])\n",
        "  labels = y_test[label_ind]\n",
        "  # compute class-wise accuracy\n",
        "  label_accs[accuracy_score(labels, pred_label)] = label\n",
        "for key in sorted(label_accs):\n",
        "  print(f\"Метка {label_accs[key]}: {key:.3f}\")"
      ],
      "metadata": {
        "colab": {
          "base_uri": "https://localhost:8080/"
        },
        "id": "Lq0Kok07JDTT",
        "outputId": "de0ca0e6-c528-49ed-961e-906d9c6fc2a8"
      },
      "execution_count": null,
      "outputs": [
        {
          "output_type": "stream",
          "name": "stdout",
          "text": [
            "Точность с разбивкой по меткам :\n",
            "---------------------------\n",
            "Метка REAL: 0.906\n",
            "Метка FAKE: 0.945\n"
          ]
        }
      ]
    },
    {
      "cell_type": "markdown",
      "source": [
        "Видно, что модель немного хуже определяет Реальные новости, чем Фейковые."
      ],
      "metadata": {
        "id": "nykL1rSVK3jD"
      }
    },
    {
      "cell_type": "markdown",
      "source": [
        "Посмотрим на первые 5 новостей, где предсказания модели не совпали с метками:"
      ],
      "metadata": {
        "id": "XkaUk1f7nOwk"
      }
    },
    {
      "cell_type": "code",
      "source": [
        "errors = X_test[(y_pred != y_test)]\n",
        "print(errors.head(5))"
      ],
      "metadata": {
        "colab": {
          "base_uri": "https://localhost:8080/"
        },
        "id": "Nu3J0LqAnQgM",
        "outputId": "6c910328-278a-4c75-8243-4f8c42c96990"
      },
      "execution_count": null,
      "outputs": [
        {
          "output_type": "stream",
          "name": "stdout",
          "text": [
            "3653    Clinton Foundation will continue to accept for...\n",
            "1812    Hillary Clinton Attacks Donald Trump for Threa...\n",
            "3217    Gay man finds it in himself to tolerate religi...\n",
            "893     Public vs. Media on War. Email \\nA new poll fr...\n",
            "3438    President Obama Gets Real, Not Revenge, On Rep...\n",
            "dtype: object\n"
          ]
        }
      ]
    },
    {
      "cell_type": "markdown",
      "source": [
        "Построим кривую ROC – график, который иллюстрирует производительность классификационной модели при всех возможных порогах классификации. Ось X данного графика представляет собой FPR, т.е ложноположительную частоту, а ось Y — TRP, т.е истинноположительную частоту.\n",
        "\n",
        "\n",
        "Также рассчитаем показатель AUC (Area Under the ROC Curve) — это мера, которая позволяет суммировать производительность модели одним числом, измеряя площадь под кривой ROC. AUC колеблется от 0 до 1, где более высокое значение AUC указывает на более высокую производительность модели. AUC равный 0.5 указывает на отсутствие дискриминационной способности модели, тогда как AUC равный 1.0 означает идеальное различие классов."
      ],
      "metadata": {
        "id": "hHO3J2_ElkVl"
      }
    },
    {
      "cell_type": "code",
      "source": [
        "# предсказание вероятностей\n",
        "y_pred_proba = model.predict_proba(X_test_tfidf)[:, 1]\n",
        "\n",
        "# расчитываем TPR и FPR, используя функцию roc_curve\n",
        "fpr, tpr, _ = roc_curve(y_test, y_pred_proba, pos_label='REAL')\n",
        "auc_lr = roc_auc_score(y_test, y_pred_proba)"
      ],
      "metadata": {
        "id": "k5X6LxNghJxA"
      },
      "execution_count": null,
      "outputs": []
    },
    {
      "cell_type": "code",
      "source": [
        "# построение ROC кривой\n",
        "plt.figure(figsize=(8, 6))\n",
        "plt.plot(fpr, tpr, color='orange', lw=2, label='ROC curve (area = %0.2f)' % auc_lr)\n",
        "plt.plot([0, 1], [0, 1], color='navy', linestyle='--')\n",
        "plt.xlim([0.0, 1.0])\n",
        "plt.ylim([0.0, 1.05])\n",
        "plt.title('Receiver Operating Characteristic')\n",
        "plt.ylabel('True Positive Rate')\n",
        "plt.xlabel('False Positive Rate')\n",
        "plt.legend(loc=\"lower right\")\n",
        "plt.show()"
      ],
      "metadata": {
        "colab": {
          "base_uri": "https://localhost:8080/",
          "height": 564
        },
        "id": "YsI1Q1K5iiOp",
        "outputId": "7f6c5eac-cf53-4265-cd65-7211db45b104"
      },
      "execution_count": null,
      "outputs": [
        {
          "output_type": "display_data",
          "data": {
            "text/plain": [
              "<Figure size 800x600 with 1 Axes>"
            ],
            "image/png": "[encoded data removed]"
          },
          "metadata": {}
        }
      ]
    },
    {
      "cell_type": "markdown",
      "source": [
        "Из расчётов видно, что производительность модели составляет 98%"
      ],
      "metadata": {
        "id": "U7aW6KgRmP26"
      }
    },
    {
      "cell_type": "markdown",
      "source": [
        "Построим матрицу ошибок и оценим качество классификации"
      ],
      "metadata": {
        "id": "krpmei3Z2f_1"
      }
    },
    {
      "cell_type": "code",
      "source": [
        "def show_confusion_matrix(test_labels, test_classes):\n",
        "  # Вычисление матрицы ошибок и ее нормализация\n",
        "  plt.figure(figsize=(3,3))\n",
        "  confusion = confusion_matrix(test_labels, test_classes)\n",
        "  confusion_normalized = confusion / confusion.sum(axis=1, keepdims=True)\n",
        "  axis_labels = unique_labels\n",
        "  ax = sns.heatmap(\n",
        "      confusion_normalized, xticklabels=axis_labels, yticklabels=axis_labels,\n",
        "      cmap='Blues', annot=True, fmt='.4f', square=True)\n",
        "  plt.title(\"Матрица ошибок\")\n",
        "  plt.ylabel(\"Истинные метки\")\n",
        "  plt.xlabel(\"Предсказанные метки\")\n",
        "\n",
        "show_confusion_matrix(y_test, y_pred)"
      ],
      "metadata": {
        "colab": {
          "base_uri": "https://localhost:8080/",
          "height": 288
        },
        "id": "9ujpJxY22qpN",
        "outputId": "c63eb7c4-c6a0-4e61-dcf7-623d193dccbd"
      },
      "execution_count": null,
      "outputs": [
        {
          "output_type": "display_data",
          "data": {
            "text/plain": [
              "<Figure size 300x300 with 2 Axes>"
            ],
            "image/png": "[encoded data removed]"
          },
          "metadata": {}
        }
      ]
    },
    {
      "cell_type": "markdown",
      "source": [
        "**2. Комплементарный наивный байесовский классификатор**"
      ],
      "metadata": {
        "id": "0doxZu6_xR4B"
      }
    },
    {
      "cell_type": "markdown",
      "source": [
        "Обучим модель и рассчитаем время затраченное на операцию обучения:"
      ],
      "metadata": {
        "id": "A9dK2E8FPRP4"
      }
    },
    {
      "cell_type": "code",
      "source": [
        "compl_ml = ComplementNB()\n",
        "start = time.time()\n",
        "compl_ml.fit(X_train_tfidf, y_train)\n",
        "end = time.time()\n",
        "CNB_train_time = end - start\n",
        "print(f\"ComplementNB Training Time: {CNB_train_time:.2f} seconds\")"
      ],
      "metadata": {
        "colab": {
          "base_uri": "https://localhost:8080/"
        },
        "id": "8iFH6ZbOwvjm",
        "outputId": "9a3710d2-188e-4fe8-9375-7b393048cfda"
      },
      "execution_count": null,
      "outputs": [
        {
          "output_type": "stream",
          "name": "stdout",
          "text": [
            "ComplementNB Training Time: 0.06 seconds\n"
          ]
        }
      ]
    },
    {
      "cell_type": "markdown",
      "source": [
        "Рассчитаем точность модели:"
      ],
      "metadata": {
        "id": "krDKrkuiPnIX"
      }
    },
    {
      "cell_type": "code",
      "source": [
        "# Предсказание категорий для тестовых данных\n",
        "y_pred = compl_ml.predict(X_test_tfidf)\n",
        "# Оценка точности модели\n",
        "accuracy_CNB = accuracy_score(y_test, y_pred)\n",
        "print(f\"Точность модели: {accuracy_CNB:.2f}\")"
      ],
      "metadata": {
        "colab": {
          "base_uri": "https://localhost:8080/"
        },
        "id": "PCo3-gVVw9Nh",
        "outputId": "ca21f63c-d8e7-4d2e-871c-7d95a12f6499"
      },
      "execution_count": null,
      "outputs": [
        {
          "output_type": "stream",
          "name": "stdout",
          "text": [
            "Точность модели: 0.83\n"
          ]
        }
      ]
    },
    {
      "cell_type": "code",
      "source": [
        "print(\"Точность с разбивкой по меткам :\")\n",
        "print(\"---------------------------\")\n",
        "label_accs = {}\n",
        "unique_labels = y_test.unique()\n",
        "\n",
        "for label in unique_labels:\n",
        "  label_ind = (y_test == label)\n",
        "  # extract predictions for specific true label\n",
        "  pred_label = compl_ml.predict(X_test_tfidf[label_ind])\n",
        "  labels = y_test[label_ind]\n",
        "  # compute class-wise accuracy\n",
        "  label_accs[accuracy_score(labels, pred_label)] = label\n",
        "for key in sorted(label_accs):\n",
        "  print(f\"Метка {label_accs[key]}: {key:.3f}\")"
      ],
      "metadata": {
        "colab": {
          "base_uri": "https://localhost:8080/"
        },
        "id": "q-5fYvE8Ldr7",
        "outputId": "323b0316-8fe7-4af0-ca66-a3c53663f1f1"
      },
      "execution_count": null,
      "outputs": [
        {
          "output_type": "stream",
          "name": "stdout",
          "text": [
            "Точность с разбивкой по меткам :\n",
            "---------------------------\n",
            "Метка FAKE: 0.674\n",
            "Метка REAL: 0.986\n"
          ]
        }
      ]
    },
    {
      "cell_type": "markdown",
      "source": [
        "Видно, что модель испытывает трудности с определением Фейковых новостей - 67% точности, гораздо лучше модель определяет реальные новости - 98% точности."
      ],
      "metadata": {
        "id": "sbh5obvQMLH6"
      }
    },
    {
      "cell_type": "markdown",
      "source": [
        "Выведем первые 5 новостей предсказания модели которых не совпали с метками:"
      ],
      "metadata": {
        "id": "DmM87ZyznnXi"
      }
    },
    {
      "cell_type": "code",
      "source": [
        "errors = X_test[(y_pred != y_test)]\n",
        "print(errors.head(5))"
      ],
      "metadata": {
        "colab": {
          "base_uri": "https://localhost:8080/"
        },
        "id": "6yoHAYSlndLI",
        "outputId": "96aa8030-85a9-4f98-b3a8-519d6c04a76a"
      },
      "execution_count": null,
      "outputs": [
        {
          "output_type": "stream",
          "name": "stdout",
          "text": [
            "3700    Healthcare system bleeds us dry by design. Lic...\n",
            "1787    Teachers Strike Allowing Children To Sample Th...\n",
            "463     The Middle East Crises Trump Inherits Could St...\n",
            "2940    US-backed Forces Launch Raqqa Offensive as Ter...\n",
            "509     CAN'T TRUST OBAMA! Look At Sick Thing He Just ...\n",
            "dtype: object\n"
          ]
        }
      ]
    },
    {
      "cell_type": "markdown",
      "source": [
        "Построим кривую ROC и рассчитаем показатель AUC:"
      ],
      "metadata": {
        "id": "9irBycY3m02C"
      }
    },
    {
      "cell_type": "code",
      "source": [
        "# предсказание вероятностей\n",
        "y_pred_proba = compl_ml.predict_proba(X_test_tfidf)[:, 1]\n",
        "\n",
        "# расчитываем TPR и FPR, используя функцию roc_curve\n",
        "fpr, tpr, _ = roc_curve(y_test, y_pred_proba, pos_label='REAL')\n",
        "auc_CNB = roc_auc_score(y_test, y_pred_proba)"
      ],
      "metadata": {
        "id": "y7kikPIAmdGT"
      },
      "execution_count": null,
      "outputs": []
    },
    {
      "cell_type": "code",
      "source": [
        "# построение ROC кривой\n",
        "plt.figure(figsize=(8, 6))\n",
        "plt.plot(fpr, tpr, color='orange', lw=2, label='ROC curve (area = %0.2f)' % auc_CNB)\n",
        "plt.plot([0, 1], [0, 1], color='navy', linestyle='--')\n",
        "plt.xlim([0.0, 1.0])\n",
        "plt.ylim([0.0, 1.05])\n",
        "plt.title('Receiver Operating Characteristic')\n",
        "plt.ylabel('True Positive Rate')\n",
        "plt.xlabel('False Positive Rate')\n",
        "plt.legend(loc=\"lower right\")\n",
        "plt.show()"
      ],
      "metadata": {
        "colab": {
          "base_uri": "https://localhost:8080/",
          "height": 564
        },
        "id": "mBwoZC04mqLa",
        "outputId": "81bae803-2e6a-46ed-f677-48abff4879a4"
      },
      "execution_count": null,
      "outputs": [
        {
          "output_type": "display_data",
          "data": {
            "text/plain": [
              "<Figure size 800x600 with 1 Axes>"
            ],
            "image/png": "[encoded data removed]"
          },
          "metadata": {}
        }
      ]
    },
    {
      "cell_type": "markdown",
      "source": [
        "Из построенного графика видно, что производительность модели составляет 97%"
      ],
      "metadata": {
        "id": "_TwqB_npnZxi"
      }
    },
    {
      "cell_type": "markdown",
      "source": [
        "Построим матрицу ошибок и оценим качество классификации"
      ],
      "metadata": {
        "id": "t8OZCWBo7EjW"
      }
    },
    {
      "cell_type": "code",
      "source": [
        "def show_confusion_matrix(test_labels, test_classes):\n",
        "  # Вычисление матрицы ошибок и ее нормализация\n",
        "  plt.figure(figsize=(3,3))\n",
        "  confusion = confusion_matrix(test_labels, test_classes)\n",
        "  confusion_normalized = confusion / confusion.sum(axis=1, keepdims=True)\n",
        "  axis_labels = unique_labels\n",
        "  ax = sns.heatmap(\n",
        "      confusion_normalized, xticklabels=axis_labels, yticklabels=axis_labels,\n",
        "      cmap='Blues', annot=True, fmt='.4f', square=True)\n",
        "  plt.title(\"Матрица ошибок\")\n",
        "  plt.ylabel(\"Истинные метки\")\n",
        "  plt.xlabel(\"Предсказанные метки\")\n",
        "\n",
        "show_confusion_matrix(y_test, y_pred)"
      ],
      "metadata": {
        "colab": {
          "base_uri": "https://localhost:8080/",
          "height": 288
        },
        "id": "abr_l7hq7GVm",
        "outputId": "47336fa1-a2ab-4d58-edb3-bf8ecd0676d8"
      },
      "execution_count": null,
      "outputs": [
        {
          "output_type": "display_data",
          "data": {
            "text/plain": [
              "<Figure size 300x300 with 2 Axes>"
            ],
            "image/png": "[encoded data removed]"
          },
          "metadata": {}
        }
      ]
    },
    {
      "cell_type": "markdown",
      "source": [
        "**3. Метод опорных векторов**"
      ],
      "metadata": {
        "id": "AiSTH8l-0MJC"
      }
    },
    {
      "cell_type": "markdown",
      "source": [
        "Обучим модель и рассчитаем время выполнения операции обучения:"
      ],
      "metadata": {
        "id": "uqf6rb4mNOk-"
      }
    },
    {
      "cell_type": "code",
      "source": [
        "SVC_model = svm.SVC()\n",
        "start = time.time()\n",
        "SVC_model.fit(X_train_tfidf, y_train)\n",
        "end = time.time()\n",
        "SVC_train_time = end - start\n",
        "print(f\"Support Vector Machines Training Time: {SVC_train_time:.2f} seconds\")"
      ],
      "metadata": {
        "colab": {
          "base_uri": "https://localhost:8080/"
        },
        "id": "tuc4YlziyqD0",
        "outputId": "c6441b90-e20c-4cd8-ccaa-c5cfb7ffe1fe"
      },
      "execution_count": null,
      "outputs": [
        {
          "output_type": "stream",
          "name": "stdout",
          "text": [
            "Support Vector Machines Training Time: 59.79 seconds\n"
          ]
        }
      ]
    },
    {
      "cell_type": "markdown",
      "source": [
        "Рассчитаем точность модели:"
      ],
      "metadata": {
        "id": "wMEB0bl3PsQ5"
      }
    },
    {
      "cell_type": "code",
      "source": [
        "# Предсказание категорий для тестовых данных\n",
        "SVC_prediction = SVC_model.predict(X_test_tfidf)\n",
        "# Оценка точности модели\n",
        "accuracy_SVC = accuracy_score(SVC_prediction, y_test)\n",
        "print(f\"Точность модели: {accuracy_SVC:.2f}\")"
      ],
      "metadata": {
        "colab": {
          "base_uri": "https://localhost:8080/"
        },
        "id": "0Th3p9WnzeBr",
        "outputId": "94f9e4ba-3a8c-4027-d8e3-c2f548322fec"
      },
      "execution_count": null,
      "outputs": [
        {
          "output_type": "stream",
          "name": "stdout",
          "text": [
            "Точность модели: 0.95\n"
          ]
        }
      ]
    },
    {
      "cell_type": "code",
      "source": [
        "print(\"Точность с разбивкой по меткам :\")\n",
        "print(\"---------------------------\")\n",
        "label_accs = {}\n",
        "unique_labels = y_test.unique()\n",
        "\n",
        "for label in unique_labels:\n",
        "  label_ind = (y_test == label)\n",
        "  # extract predictions for specific true label\n",
        "  pred_label = SVC_model.predict(X_test_tfidf[label_ind])\n",
        "  labels = y_test[label_ind]\n",
        "  # compute class-wise accuracy\n",
        "  label_accs[accuracy_score(labels, pred_label)] = label\n",
        "for key in sorted(label_accs):\n",
        "  print(f\"Метка {label_accs[key]}: {key:.3f}\")"
      ],
      "metadata": {
        "colab": {
          "base_uri": "https://localhost:8080/"
        },
        "id": "I_x-2n1sMorL",
        "outputId": "fa28bb2a-766b-48ab-929a-725165215359"
      },
      "execution_count": null,
      "outputs": [
        {
          "output_type": "stream",
          "name": "stdout",
          "text": [
            "Точность с разбивкой по меткам :\n",
            "---------------------------\n",
            "Метка REAL: 0.929\n",
            "Метка FAKE: 0.969\n"
          ]
        }
      ]
    },
    {
      "cell_type": "markdown",
      "source": [
        "Видно что модель лучше распознаёт Фейковые новости - 96% точности, немного хуже модель определяет Реальные новости - 92% точности."
      ],
      "metadata": {
        "id": "H3XxRozaNH5k"
      }
    },
    {
      "cell_type": "markdown",
      "source": [
        "Выведем первые 5 новостей предсказания модели по которым не совпали с метками:"
      ],
      "metadata": {
        "id": "huYB0yisoKrH"
      }
    },
    {
      "cell_type": "code",
      "source": [
        "errors = X_test[(SVC_prediction!= y_test)]\n",
        "print(errors.head(5))"
      ],
      "metadata": {
        "colab": {
          "base_uri": "https://localhost:8080/"
        },
        "id": "xbpcgKS_oS7g",
        "outputId": "0f5bdeae-0f77-4b70-a857-c6ad701d26dc"
      },
      "execution_count": null,
      "outputs": [
        {
          "output_type": "stream",
          "name": "stdout",
          "text": [
            "3653    Clinton Foundation will continue to accept for...\n",
            "1812    Hillary Clinton Attacks Donald Trump for Threa...\n",
            "893     Public vs. Media on War. Email \\nA new poll fr...\n",
            "3438    President Obama Gets Real, Not Revenge, On Rep...\n",
            "2150    FBI’s brazen terrorism lie: What the Boston Ma...\n",
            "dtype: object\n"
          ]
        }
      ]
    },
    {
      "cell_type": "markdown",
      "source": [
        "Построим кривую ROC и рассчитаем показатель AUC:"
      ],
      "metadata": {
        "id": "bcHFfcmAoL4y"
      }
    },
    {
      "cell_type": "code",
      "source": [
        "# предсказание вероятностей\n",
        "y_decision_func = SVC_model.decision_function(X_test_tfidf)\n",
        "\n",
        "# расчитываем TPR и FPR, используя функцию roc_curve\n",
        "fpr, tpr, _ = roc_curve(y_test, y_decision_func, pos_label='REAL')\n",
        "auc_SVC = roc_auc_score(y_test, y_decision_func)"
      ],
      "metadata": {
        "id": "JUsHfaXSoNDq"
      },
      "execution_count": null,
      "outputs": []
    },
    {
      "cell_type": "code",
      "source": [
        "# построение ROC кривой\n",
        "plt.figure(figsize=(8, 6))\n",
        "plt.plot(fpr, tpr, color='orange', lw=2, label='ROC curve (area = %0.2f)' % auc_SVC)\n",
        "plt.plot([0, 1], [0, 1], color='navy', linestyle='--')\n",
        "plt.xlim([0.0, 1.0])\n",
        "plt.ylim([0.0, 1.05])\n",
        "plt.title('Receiver Operating Characteristic')\n",
        "plt.ylabel('True Positive Rate')\n",
        "plt.xlabel('False Positive Rate')\n",
        "plt.legend(loc=\"lower right\")\n",
        "plt.show()"
      ],
      "metadata": {
        "colab": {
          "base_uri": "https://localhost:8080/",
          "height": 564
        },
        "id": "V2rg_CzEoYiM",
        "outputId": "35ad0342-5deb-4e28-9321-c4c90ab3d9e1"
      },
      "execution_count": null,
      "outputs": [
        {
          "output_type": "display_data",
          "data": {
            "text/plain": [
              "<Figure size 800x600 with 1 Axes>"
            ],
            "image/png": "[encoded data removed]"
          },
          "metadata": {}
        }
      ]
    },
    {
      "cell_type": "markdown",
      "source": [
        "Из построенного графика видно, что производительность модели составляет 99%"
      ],
      "metadata": {
        "id": "t-0qy8XuooBW"
      }
    },
    {
      "cell_type": "markdown",
      "source": [
        "Построим матрицу ошибок и оценим качество классификации"
      ],
      "metadata": {
        "id": "ci7gV_tC7Xf9"
      }
    },
    {
      "cell_type": "code",
      "source": [
        "def show_confusion_matrix(test_labels, test_classes):\n",
        "  # Вычисление матрицы ошибок и ее нормализация\n",
        "  plt.figure(figsize=(3,3))\n",
        "  confusion = confusion_matrix(test_labels, test_classes)\n",
        "  confusion_normalized = confusion / confusion.sum(axis=1, keepdims=True)\n",
        "  axis_labels = unique_labels\n",
        "  ax = sns.heatmap(\n",
        "      confusion_normalized, xticklabels=axis_labels, yticklabels=axis_labels,\n",
        "      cmap='Blues', annot=True, fmt='.4f', square=True)\n",
        "  plt.title(\"Матрица ошибок\")\n",
        "  plt.ylabel(\"Истинные метки\")\n",
        "  plt.xlabel(\"Предсказанные метки\")\n",
        "\n",
        "show_confusion_matrix(y_test, SVC_prediction)"
      ],
      "metadata": {
        "colab": {
          "base_uri": "https://localhost:8080/",
          "height": 288
        },
        "id": "DGH-rDcy7ZZ3",
        "outputId": "3d4f39a9-772d-4bc0-e5c4-0b20f78ebd1a"
      },
      "execution_count": null,
      "outputs": [
        {
          "output_type": "display_data",
          "data": {
            "text/plain": [
              "<Figure size 300x300 with 2 Axes>"
            ],
            "image/png": "[encoded data removed]"
          },
          "metadata": {}
        }
      ]
    },
    {
      "cell_type": "markdown",
      "source": [
        "### Оценка алгоритмов"
      ],
      "metadata": {
        "id": "2zoZDEN4FcPR"
      }
    },
    {
      "cell_type": "markdown",
      "source": [
        "Построим диаграмму распределения точности модели в зависимости от выбранного алгоритма"
      ],
      "metadata": {
        "id": "vjq384zku6Dc"
      }
    },
    {
      "cell_type": "code",
      "source": [
        "df_accuracy = pd.DataFrame(columns=['algorithm', 'accuracy']) #  создадим ноый датафрейм с колонками алгоритм и качество"
      ],
      "metadata": {
        "id": "0B588IGAvqpX"
      },
      "execution_count": null,
      "outputs": []
    },
    {
      "cell_type": "code",
      "source": [
        "# Заполним датафрейм данными\n",
        "df_accuracy['algorithm'] = ['LogisticRegression', 'SVC', 'ComplementNB']\n",
        "df_accuracy['accuracy'] = [accuracy_LR, accuracy_SVC, accuracy_CNB]"
      ],
      "metadata": {
        "id": "U2a0pcZHvt6s"
      },
      "execution_count": null,
      "outputs": []
    },
    {
      "cell_type": "code",
      "source": [
        "# Построим гистограмму\n",
        "df_accuracy.set_index('algorithm').plot(kind='barh', stacked=True)\n",
        "plt.title('Точность модели по алгоритмам')\n",
        "plt.ylabel('Алгоритм')\n",
        "plt.xlabel('Точность')\n",
        "# Отобразим значения данных на графике\n",
        "for index, value in enumerate(df_accuracy['accuracy']):\n",
        "    plt.text(value, index, str(round(value, 2)), ha='left')\n",
        "plt.legend('')\n",
        "plt.show()"
      ],
      "metadata": {
        "colab": {
          "base_uri": "https://localhost:8080/",
          "height": 472
        },
        "id": "1EFZb3eDwBg1",
        "outputId": "5185dc33-4494-46fb-a9cf-d0fa9c65855b"
      },
      "execution_count": null,
      "outputs": [
        {
          "output_type": "display_data",
          "data": {
            "text/plain": [
              "<Figure size 640x480 with 1 Axes>"
            ],
            "image/png": "[encoded data removed]"
          },
          "metadata": {}
        }
      ]
    },
    {
      "cell_type": "markdown",
      "source": [
        "Из построенной диаграммы видно, что самая высокая точность обучения модели при  алгоритме SVC (95%), на втором месте LogisticRegression (93%), а наименьшая точность обучения модели - ComplementNB (83%)."
      ],
      "metadata": {
        "id": "-ytTJoOOIkEj"
      }
    },
    {
      "cell_type": "markdown",
      "source": [
        "Оценим время выполнения процесса обучения в зависимости от алгоритма"
      ],
      "metadata": {
        "id": "mYn8e39rvIKy"
      }
    },
    {
      "cell_type": "code",
      "source": [
        "df_time = pd.DataFrame(columns=['algorithm', 'time']) #  создадим ноый датафрейм с колонками алгоритм и время"
      ],
      "metadata": {
        "id": "tqgO2thgvgCq"
      },
      "execution_count": null,
      "outputs": []
    },
    {
      "cell_type": "code",
      "source": [
        "# Заполним датайрейм данными\n",
        "df_time['algorithm'] = ['LogisticRegression', 'SVC', 'ComplementNB']\n",
        "df_time['time'] = [LR_train_time, SVC_train_time, CNB_train_time]"
      ],
      "metadata": {
        "id": "c572HL5tvmff"
      },
      "execution_count": null,
      "outputs": []
    },
    {
      "cell_type": "code",
      "source": [
        "import plotly.graph_objects as go\n",
        "\n",
        "fig = go.Figure()\n",
        "\n",
        "fig.add_trace(go.Bar(\n",
        "    x=df_time['time'],\n",
        "    y=df_time['algorithm'],\n",
        "    orientation='h',\n",
        "))\n",
        "\n",
        "fig.update_layout(\n",
        "    autosize=False,\n",
        "    width=1500,\n",
        "    height=500,\n",
        "    title=\"Время обучения модели по алгоритмам\",\n",
        "    xaxis = dict(\n",
        "        title=dict(\n",
        "            text=\"Время обучения модели\",\n",
        "            font=dict(\n",
        "            size=15\n",
        "            )\n",
        "        ),\n",
        "        ticktext=[\"0s\", \"2s\", \"5s\", \"10s\", \"20s\", \"30s\", \"60s\"],\n",
        "        tickvals=[0, 2, 5, 10, 20, 30, 60],\n",
        "        tickmode=\"array\",\n",
        "    ),\n",
        "    yaxis_title=\"Алгоритм обучения\",\n",
        ")\n",
        "\n",
        "fig.update_xaxes(automargin=True)\n",
        "\n",
        "fig.show()"
      ],
      "metadata": {
        "colab": {
          "base_uri": "https://localhost:8080/",
          "height": 517
        },
        "id": "mzC60kSDx8Nc",
        "outputId": "35ee9a9d-17be-4192-dc7d-8b57318ab954"
      },
      "execution_count": null,
      "outputs": [
        {
          "output_type": "display_data",
          "data": {
            "text/html": [
              "<html>\n",
              "<head><meta charset=\"utf-8\" /></head>\n",
              "<body>\n",
              "    <div>            <script src=\"https://cdnjs.cloudflare.com/ajax/libs/mathjax/2.7.5/MathJax.js?config=TeX-AMS-MML_SVG\"></script><script type=\"text/javascript\">if (window.MathJax && window.MathJax.Hub && window.MathJax.Hub.Config) {window.MathJax.Hub.Config({SVG: {font: \"STIX-Web\"}});}</script>                <script type=\"text/javascript\">window.PlotlyConfig = {MathJaxConfig: 'local'};</script>\n",
              "        <script charset=\"utf-8\" src=\"https://cdn.plot.ly/plotly-2.35.2.min.js\"></script>                <div id=\"30929bed-03b0-45aa-b3ff-dabdbb948ec0\" class=\"plotly-graph-div\" style=\"height:500px; width:1500px;\"></div>            <script type=\"text/javascript\">                                    window.PLOTLYENV=window.PLOTLYENV || {};                                    if (document.getElementById(\"30929bed-03b0-45aa-b3ff-dabdbb948ec0\")) {                    Plotly.newPlot(                        \"30929bed-03b0-45aa-b3ff-dabdbb948ec0\",                        [{\"orientation\":\"h\",\"x\":[3.1882009506225586,59.788001537323,0.06167864799499512],\"y\":[\"LogisticRegression\",\"SVC\",\"ComplementNB\"],\"type\":\"bar\"}],                        {\"template\":{\"data\":{\"histogram2dcontour\":[{\"type\":\"histogram2dcontour\",\"colorbar\":{\"outlinewidth\":0,\"ticks\":\"\"},\"colorscale\":[[0.0,\"#0d0887\"],[0.1111111111111111,\"#46039f\"],[0.2222222222222222,\"#7201a8\"],[0.3333333333333333,\"#9c179e\"],[0.4444444444444444,\"#bd3786\"],[0.5555555555555556,\"#d8576b\"],[0.6666666666666666,\"#ed7953\"],[0.7777777777777778,\"#fb9f3a\"],[0.8888888888888888,\"#fdca26\"],[1.0,\"#f0f921\"]]}],\"choropleth\":[{\"type\":\"choropleth\",\"colorbar\":{\"outlinewidth\":0,\"ticks\":\"\"}}],\"histogram2d\":[{\"type\":\"histogram2d\",\"colorbar\":{\"outlinewidth\":0,\"ticks\":\"\"},\"colorscale\":[[0.0,\"#0d0887\"],[0.1111111111111111,\"#46039f\"],[0.2222222222222222,\"#7201a8\"],[0.3333333333333333,\"#9c179e\"],[0.4444444444444444,\"#bd3786\"],[0.5555555555555556,\"#d8576b\"],[0.6666666666666666,\"#ed7953\"],[0.7777777777777778,\"#fb9f3a\"],[0.8888888888888888,\"#fdca26\"],[1.0,\"#f0f921\"]]}],\"heatmap\":[{\"type\":\"heatmap\",\"colorbar\":{\"outlinewidth\":0,\"ticks\":\"\"},\"colorscale\":[[0.0,\"#0d0887\"],[0.1111111111111111,\"#46039f\"],[0.2222222222222222,\"#7201a8\"],[0.3333333333333333,\"#9c179e\"],[0.4444444444444444,\"#bd3786\"],[0.5555555555555556,\"#d8576b\"],[0.6666666666666666,\"#ed7953\"],[0.7777777777777778,\"#fb9f3a\"],[0.8888888888888888,\"#fdca26\"],[1.0,\"#f0f921\"]]}],\"heatmapgl\":[{\"type\":\"heatmapgl\",\"colorbar\":{\"outlinewidth\":0,\"ticks\":\"\"},\"colorscale\":[[0.0,\"#0d0887\"],[0.1111111111111111,\"#46039f\"],[0.2222222222222222,\"#7201a8\"],[0.3333333333333333,\"#9c179e\"],[0.4444444444444444,\"#bd3786\"],[0.5555555555555556,\"#d8576b\"],[0.6666666666666666,\"#ed7953\"],[0.7777777777777778,\"#fb9f3a\"],[0.8888888888888888,\"#fdca26\"],[1.0,\"#f0f921\"]]}],\"contourcarpet\":[{\"type\":\"contourcarpet\",\"colorbar\":{\"outlinewidth\":0,\"ticks\":\"\"}}],\"contour\":[{\"type\":\"contour\",\"colorbar\":{\"outlinewidth\":0,\"ticks\":\"\"},\"colorscale\":[[0.0,\"#0d0887\"],[0.1111111111111111,\"#46039f\"],[0.2222222222222222,\"#7201a8\"],[0.3333333333333333,\"#9c179e\"],[0.4444444444444444,\"#bd3786\"],[0.5555555555555556,\"#d8576b\"],[0.6666666666666666,\"#ed7953\"],[0.7777777777777778,\"#fb9f3a\"],[0.8888888888888888,\"#fdca26\"],[1.0,\"#f0f921\"]]}],\"surface\":[{\"type\":\"surface\",\"colorbar\":{\"outlinewidth\":0,\"ticks\":\"\"},\"colorscale\":[[0.0,\"#0d0887\"],[0.1111111111111111,\"#46039f\"],[0.2222222222222222,\"#7201a8\"],[0.3333333333333333,\"#9c179e\"],[0.4444444444444444,\"#bd3786\"],[0.5555555555555556,\"#d8576b\"],[0.6666666666666666,\"#ed7953\"],[0.7777777777777778,\"#fb9f3a\"],[0.8888888888888888,\"#fdca26\"],[1.0,\"#f0f921\"]]}],\"mesh3d\":[{\"type\":\"mesh3d\",\"colorbar\":{\"outlinewidth\":0,\"ticks\":\"\"}}],\"scatter\":[{\"fillpattern\":{\"fillmode\":\"overlay\",\"size\":10,\"solidity\":0.2},\"type\":\"scatter\"}],\"parcoords\":[{\"type\":\"parcoords\",\"line\":{\"colorbar\":{\"outlinewidth\":0,\"ticks\":\"\"}}}],\"scatterpolargl\":[{\"type\":\"scatterpolargl\",\"marker\":{\"colorbar\":{\"outlinewidth\":0,\"ticks\":\"\"}}}],\"bar\":[{\"error_x\":{\"color\":\"#2a3f5f\"},\"error_y\":{\"color\":\"#2a3f5f\"},\"marker\":{\"line\":{\"color\":\"#E5ECF6\",\"width\":0.5},\"pattern\":{\"fillmode\":\"overlay\",\"size\":10,\"solidity\":0.2}},\"type\":\"bar\"}],\"scattergeo\":[{\"type\":\"scattergeo\",\"marker\":{\"colorbar\":{\"outlinewidth\":0,\"ticks\":\"\"}}}],\"scatterpolar\":[{\"type\":\"scatterpolar\",\"marker\":{\"colorbar\":{\"outlinewidth\":0,\"ticks\":\"\"}}}],\"histogram\":[{\"marker\":{\"pattern\":{\"fillmode\":\"overlay\",\"size\":10,\"solidity\":0.2}},\"type\":\"histogram\"}],\"scattergl\":[{\"type\":\"scattergl\",\"marker\":{\"colorbar\":{\"outlinewidth\":0,\"ticks\":\"\"}}}],\"scatter3d\":[{\"type\":\"scatter3d\",\"line\":{\"colorbar\":{\"outlinewidth\":0,\"ticks\":\"\"}},\"marker\":{\"colorbar\":{\"outlinewidth\":0,\"ticks\":\"\"}}}],\"scattermapbox\":[{\"type\":\"scattermapbox\",\"marker\":{\"colorbar\":{\"outlinewidth\":0,\"ticks\":\"\"}}}],\"scatterternary\":[{\"type\":\"scatterternary\",\"marker\":{\"colorbar\":{\"outlinewidth\":0,\"ticks\":\"\"}}}],\"scattercarpet\":[{\"type\":\"scattercarpet\",\"marker\":{\"colorbar\":{\"outlinewidth\":0,\"ticks\":\"\"}}}],\"carpet\":[{\"aaxis\":{\"endlinecolor\":\"#2a3f5f\",\"gridcolor\":\"white\",\"linecolor\":\"white\",\"minorgridcolor\":\"white\",\"startlinecolor\":\"#2a3f5f\"},\"baxis\":{\"endlinecolor\":\"#2a3f5f\",\"gridcolor\":\"white\",\"linecolor\":\"white\",\"minorgridcolor\":\"white\",\"startlinecolor\":\"#2a3f5f\"},\"type\":\"carpet\"}],\"table\":[{\"cells\":{\"fill\":{\"color\":\"#EBF0F8\"},\"line\":{\"color\":\"white\"}},\"header\":{\"fill\":{\"color\":\"#C8D4E3\"},\"line\":{\"color\":\"white\"}},\"type\":\"table\"}],\"barpolar\":[{\"marker\":{\"line\":{\"color\":\"#E5ECF6\",\"width\":0.5},\"pattern\":{\"fillmode\":\"overlay\",\"size\":10,\"solidity\":0.2}},\"type\":\"barpolar\"}],\"pie\":[{\"automargin\":true,\"type\":\"pie\"}]},\"layout\":{\"autotypenumbers\":\"strict\",\"colorway\":[\"#636efa\",\"#EF553B\",\"#00cc96\",\"#ab63fa\",\"#FFA15A\",\"#19d3f3\",\"#FF6692\",\"#B6E880\",\"#FF97FF\",\"#FECB52\"],\"font\":{\"color\":\"#2a3f5f\"},\"hovermode\":\"closest\",\"hoverlabel\":{\"align\":\"left\"},\"paper_bgcolor\":\"white\",\"plot_bgcolor\":\"#E5ECF6\",\"polar\":{\"bgcolor\":\"#E5ECF6\",\"angularaxis\":{\"gridcolor\":\"white\",\"linecolor\":\"white\",\"ticks\":\"\"},\"radialaxis\":{\"gridcolor\":\"white\",\"linecolor\":\"white\",\"ticks\":\"\"}},\"ternary\":{\"bgcolor\":\"#E5ECF6\",\"aaxis\":{\"gridcolor\":\"white\",\"linecolor\":\"white\",\"ticks\":\"\"},\"baxis\":{\"gridcolor\":\"white\",\"linecolor\":\"white\",\"ticks\":\"\"},\"caxis\":{\"gridcolor\":\"white\",\"linecolor\":\"white\",\"ticks\":\"\"}},\"coloraxis\":{\"colorbar\":{\"outlinewidth\":0,\"ticks\":\"\"}},\"colorscale\":{\"sequential\":[[0.0,\"#0d0887\"],[0.1111111111111111,\"#46039f\"],[0.2222222222222222,\"#7201a8\"],[0.3333333333333333,\"#9c179e\"],[0.4444444444444444,\"#bd3786\"],[0.5555555555555556,\"#d8576b\"],[0.6666666666666666,\"#ed7953\"],[0.7777777777777778,\"#fb9f3a\"],[0.8888888888888888,\"#fdca26\"],[1.0,\"#f0f921\"]],\"sequentialminus\":[[0.0,\"#0d0887\"],[0.1111111111111111,\"#46039f\"],[0.2222222222222222,\"#7201a8\"],[0.3333333333333333,\"#9c179e\"],[0.4444444444444444,\"#bd3786\"],[0.5555555555555556,\"#d8576b\"],[0.6666666666666666,\"#ed7953\"],[0.7777777777777778,\"#fb9f3a\"],[0.8888888888888888,\"#fdca26\"],[1.0,\"#f0f921\"]],\"diverging\":[[0,\"#8e0152\"],[0.1,\"#c51b7d\"],[0.2,\"#de77ae\"],[0.3,\"#f1b6da\"],[0.4,\"#fde0ef\"],[0.5,\"#f7f7f7\"],[0.6,\"#e6f5d0\"],[0.7,\"#b8e186\"],[0.8,\"#7fbc41\"],[0.9,\"#4d9221\"],[1,\"#276419\"]]},\"xaxis\":{\"gridcolor\":\"white\",\"linecolor\":\"white\",\"ticks\":\"\",\"title\":{\"standoff\":15},\"zerolinecolor\":\"white\",\"automargin\":true,\"zerolinewidth\":2},\"yaxis\":{\"gridcolor\":\"white\",\"linecolor\":\"white\",\"ticks\":\"\",\"title\":{\"standoff\":15},\"zerolinecolor\":\"white\",\"automargin\":true,\"zerolinewidth\":2},\"scene\":{\"xaxis\":{\"backgroundcolor\":\"#E5ECF6\",\"gridcolor\":\"white\",\"linecolor\":\"white\",\"showbackground\":true,\"ticks\":\"\",\"zerolinecolor\":\"white\",\"gridwidth\":2},\"yaxis\":{\"backgroundcolor\":\"#E5ECF6\",\"gridcolor\":\"white\",\"linecolor\":\"white\",\"showbackground\":true,\"ticks\":\"\",\"zerolinecolor\":\"white\",\"gridwidth\":2},\"zaxis\":{\"backgroundcolor\":\"#E5ECF6\",\"gridcolor\":\"white\",\"linecolor\":\"white\",\"showbackground\":true,\"ticks\":\"\",\"zerolinecolor\":\"white\",\"gridwidth\":2}},\"shapedefaults\":{\"line\":{\"color\":\"#2a3f5f\"}},\"annotationdefaults\":{\"arrowcolor\":\"#2a3f5f\",\"arrowhead\":0,\"arrowwidth\":1},\"geo\":{\"bgcolor\":\"white\",\"landcolor\":\"#E5ECF6\",\"subunitcolor\":\"white\",\"showland\":true,\"showlakes\":true,\"lakecolor\":\"white\"},\"title\":{\"x\":0.05},\"mapbox\":{\"style\":\"light\"}}},\"xaxis\":{\"title\":{\"font\":{\"size\":15},\"text\":\"Время обучения модели\"},\"ticktext\":[\"0s\",\"2s\",\"5s\",\"10s\",\"20s\",\"30s\",\"60s\"],\"tickvals\":[0,2,5,10,20,30,60],\"tickmode\":\"array\",\"automargin\":true},\"autosize\":false,\"width\":1500,\"height\":500,\"title\":{\"text\":\"Время обучения модели по алгоритмам\"},\"yaxis\":{\"title\":{\"text\":\"Алгоритм обучения\"}}},                        {\"responsive\": true}                    ).then(function(){\n",
              "                            \n",
              "var gd = document.getElementById('30929bed-03b0-45aa-b3ff-dabdbb948ec0');\n",
              "var x = new MutationObserver(function (mutations, observer) {{\n",
              "        var display = window.getComputedStyle(gd).display;\n",
              "        if (!display || display === 'none') {{\n",
              "            console.log([gd, 'removed!']);\n",
              "            Plotly.purge(gd);\n",
              "            observer.disconnect();\n",
              "        }}\n",
              "}});\n",
              "\n",
              "// Listen for the removal of the full notebook cells\n",
              "var notebookContainer = gd.closest('#notebook-container');\n",
              "if (notebookContainer) {{\n",
              "    x.observe(notebookContainer, {childList: true});\n",
              "}}\n",
              "\n",
              "// Listen for the clearing of the current output cell\n",
              "var outputEl = gd.closest('.output');\n",
              "if (outputEl) {{\n",
              "    x.observe(outputEl, {childList: true});\n",
              "}}\n",
              "\n",
              "                        })                };                            </script>        </div>\n",
              "</body>\n",
              "</html>"
            ]
          },
          "metadata": {}
        }
      ]
    },
    {
      "cell_type": "markdown",
      "source": [
        "Из построенного графика видно что быстрее всего модель обучается по алгоритму Комплементарного наивного байесовского классификатора - 0,03 сек, на втором месте Алгоритм логистической регресии - 1,97 сек., и на последнем месте Метод опорных векторов - 57,5 сек."
      ],
      "metadata": {
        "id": "FHAuBiDB6J63"
      }
    },
    {
      "cell_type": "markdown",
      "source": [
        "Оценим производительность модели по показателю AUC, при различных алгоритмах обучения"
      ],
      "metadata": {
        "id": "-R7Gl3a_GPIa"
      }
    },
    {
      "cell_type": "code",
      "source": [
        "df_auc = pd.DataFrame(columns=['algorithm', 'auc']) # создание датайрейма с колонками алгоритм и показатель производительности auc"
      ],
      "metadata": {
        "id": "btdBagC-GglZ"
      },
      "execution_count": null,
      "outputs": []
    },
    {
      "cell_type": "code",
      "source": [
        "# Заполним датайрейм данными\n",
        "df_auc['algorithm']=['LogisticRegression', 'ComplementNB', 'SVC']\n",
        "df_auc['auc']=[auc_lr, auc_CNB, auc_SVC]"
      ],
      "metadata": {
        "id": "VkSlTE7bG2lP"
      },
      "execution_count": null,
      "outputs": []
    },
    {
      "cell_type": "code",
      "source": [
        "# Построим гистограмму\n",
        "df_auc.set_index('algorithm').plot(kind='barh', stacked=True)\n",
        "plt.title('Производительность модели по алгоритмам')\n",
        "plt.ylabel('Алгоритм')\n",
        "plt.xlabel('Производительность')\n",
        "# Отобразим значения данных на графике\n",
        "for index, value in enumerate(df_auc['auc']):\n",
        "    plt.text(value, index, str(round(value, 2)), ha='left')\n",
        "plt.legend('')\n",
        "plt.show()"
      ],
      "metadata": {
        "colab": {
          "base_uri": "https://localhost:8080/",
          "height": 472
        },
        "id": "bzH4cWEWQOyY",
        "outputId": "1974c6e5-9705-40c7-8db5-451606406db1"
      },
      "execution_count": null,
      "outputs": [
        {
          "output_type": "display_data",
          "data": {
            "text/plain": [
              "<Figure size 640x480 with 1 Axes>"
            ],
            "image/png": "[encoded data removed]"
          },
          "metadata": {}
        }
      ]
    },
    {
      "cell_type": "markdown",
      "source": [
        "По построенной диаграмме можно сделать вывод о том, что самая высокая производительность модели при алгоритме SVC - 99%, на втором месте LogisticRegression - 98%, самая маленькая производительность при ComplemetnNB- 97%."
      ],
      "metadata": {
        "id": "dLYMHpY1QnRp"
      }
    },
    {
      "cell_type": "markdown",
      "source": [
        "### ВЫВОД: Для построения модели класса машинного обучения по выявлению Фальшивых новостей лучше всего подошёл Метод опорных векторов (Support Vector Machines - SVM), точность модели 95%, но уступающий по сокрости выполнения алгоритмам Логистической регресии (Logistic Regression), точность модели - 93%, и Комплиментарного наивного байесовского классификатора, точность модели - 83%."
      ],
      "metadata": {
        "id": "VWnZb1oRN2y4"
      }
    },
    {
      "cell_type": "markdown",
      "source": [
        "# Задача 2. Обнаружение болезни паркинсона с помощью XGBoost"
      ],
      "metadata": {
        "id": "mQDBqELkPgeQ"
      }
    },
    {
      "cell_type": "markdown",
      "source": [
        "### Загрузка данных"
      ],
      "metadata": {
        "id": "0EgAjWfKQliw"
      }
    },
    {
      "cell_type": "code",
      "source": [
        "!wget https://storage.yandexcloud.net/academy.ai/practica/parkinsons.data # загружаем данные"
      ],
      "metadata": {
        "colab": {
          "base_uri": "https://localhost:8080/"
        },
        "id": "FnefaIXlQqBP",
        "outputId": "d83e8ece-e827-4daf-b79b-186f89973abe"
      },
      "execution_count": null,
      "outputs": [
        {
          "output_type": "stream",
          "name": "stdout",
          "text": [
            "--2025-01-08 10:29:46--  https://storage.yandexcloud.net/academy.ai/practica/parkinsons.data\n",
            "Resolving storage.yandexcloud.net (storage.yandexcloud.net)... 213.180.193.243, 2a02:6b8::1d9\n",
            "Connecting to storage.yandexcloud.net (storage.yandexcloud.net)|213.180.193.243|:443... connected.\n",
            "HTTP request sent, awaiting response... 200 OK\n",
            "Length: 40697 (40K) [application/x-www-form-urlencoded]\n",
            "Saving to: ‘parkinsons.data.1’\n",
            "\n",
            "parkinsons.data.1   100%[===================>]  39.74K   260KB/s    in 0.2s    \n",
            "\n",
            "2025-01-08 10:29:47 (260 KB/s) - ‘parkinsons.data.1’ saved [40697/40697]\n",
            "\n"
          ]
        }
      ]
    },
    {
      "cell_type": "markdown",
      "source": [
        "Разметка в текстовом файле parkinsons.data такая же как и в файлах .csv, поэтому мы легко её сможем прочитать с помощью pandas:"
      ],
      "metadata": {
        "id": "a3wHZvF7ZrMr"
      }
    },
    {
      "cell_type": "code",
      "source": [
        "df_parkinson = pd.read_csv(\"./parkinsons.data\") # читаем данные"
      ],
      "metadata": {
        "id": "BSeo-0LtRCkQ"
      },
      "execution_count": null,
      "outputs": []
    },
    {
      "cell_type": "markdown",
      "source": [
        "Посмотрим информацию о файле:"
      ],
      "metadata": {
        "id": "P6qr3Z0caE40"
      }
    },
    {
      "cell_type": "code",
      "source": [
        "df_parkinson.info()"
      ],
      "metadata": {
        "colab": {
          "base_uri": "https://localhost:8080/"
        },
        "id": "bHBYv1zaSMiI",
        "outputId": "a6996b47-a4ba-402e-8337-3ce4ea2141be"
      },
      "execution_count": null,
      "outputs": [
        {
          "output_type": "stream",
          "name": "stdout",
          "text": [
            "<class 'pandas.core.frame.DataFrame'>\n",
            "RangeIndex: 195 entries, 0 to 194\n",
            "Data columns (total 24 columns):\n",
            " #   Column            Non-Null Count  Dtype  \n",
            "---  ------            --------------  -----  \n",
            " 0   name              195 non-null    object \n",
            " 1   MDVP:Fo(Hz)       195 non-null    float64\n",
            " 2   MDVP:Fhi(Hz)      195 non-null    float64\n",
            " 3   MDVP:Flo(Hz)      195 non-null    float64\n",
            " 4   MDVP:Jitter(%)    195 non-null    float64\n",
            " 5   MDVP:Jitter(Abs)  195 non-null    float64\n",
            " 6   MDVP:RAP          195 non-null    float64\n",
            " 7   MDVP:PPQ          195 non-null    float64\n",
            " 8   Jitter:DDP        195 non-null    float64\n",
            " 9   MDVP:Shimmer      195 non-null    float64\n",
            " 10  MDVP:Shimmer(dB)  195 non-null    float64\n",
            " 11  Shimmer:APQ3      195 non-null    float64\n",
            " 12  Shimmer:APQ5      195 non-null    float64\n",
            " 13  MDVP:APQ          195 non-null    float64\n",
            " 14  Shimmer:DDA       195 non-null    float64\n",
            " 15  NHR               195 non-null    float64\n",
            " 16  HNR               195 non-null    float64\n",
            " 17  status            195 non-null    int64  \n",
            " 18  RPDE              195 non-null    float64\n",
            " 19  DFA               195 non-null    float64\n",
            " 20  spread1           195 non-null    float64\n",
            " 21  spread2           195 non-null    float64\n",
            " 22  D2                195 non-null    float64\n",
            " 23  PPE               195 non-null    float64\n",
            "dtypes: float64(22), int64(1), object(1)\n",
            "memory usage: 36.7+ KB\n"
          ]
        }
      ]
    },
    {
      "cell_type": "markdown",
      "source": [
        "Из полученной информации видно что датасет содержит 195 записей биомедицинских голосовых измерений пациентов, для определения людей с болезнью паркинсона и здоровых. Столбец status показывает болен ли пациент (значение 1) или здоров (значение 0).\n",
        "В датасете всего 24 колонки."
      ],
      "metadata": {
        "id": "3DL56LnASdzB"
      }
    },
    {
      "cell_type": "markdown",
      "source": [
        "| Столбец               | Описание                                                                 |\n",
        "|-----------------------|-------------------------------------------------------------------------|\n",
        "| name | Имя субъекта |\n",
        "| MDVP:Fo(Hz) | Средняя основная частота вокала |\n",
        "| MDVP:Fhi(Hz) | Максимальная основная частота вокала |\n",
        "| MDVP:Flo(Hz) | Минимальная основная частота вокала |\n",
        "| MDVP:Jitter(%) | Некоторая мера изменения основной частоты |\n",
        "| MDVP:Jitter(Abs) | Некоторая мера изменения основной частоты |\n",
        "| MDVP:RAP | Некоторая мера изменения основной частоты |\n",
        "| MDVP:PPQ | Некоторая мера изменения основной частоты |\n",
        "| Jitter:DDP | Некоторая мера изменения основной частоты |\n",
        "| MDVP:Shimmer | Некоторая мера изменения амплитуды |\n",
        "| MDVP:Shimmer(dB) | Некоторая мера изменения амплитуды |\n",
        "| Shimmer:APQ3 | Некоторая мера изменения амплитуды |\n",
        "| Shimmer:APQ5 | Некоторая мера изменения амплитуды |\n",
        "| MDVP:APQ | Некоторая мера изменения амплитуды |\n",
        "| Shimmer:DDA | Некоторая мера изменения амплитуды |\n",
        "| NHR | Мера соотношения шума и тональных компонентов в голосе |\n",
        "| HNR | Мера соотношения шума и тональных компонентов в голосе |\n",
        "| status | Состояние здоровья субъекта (1) - болезнь Паркинсона, (0) - здоров |\n",
        "| RPDE | Нелинейная динамическая мера сложности |\n",
        "| DFA | Экспонента масштабирования фрактала сигнала |\n",
        "| spread1 | Нелинейная мера изменения основной частоты |\n",
        "| spread2 | Нелинейная мера изменения основной частоты |\n",
        "| D2 | Нелинейная динамическая мера сложности |\n",
        "| PPE | Нелинейная мера изменения основной частоты |"
      ],
      "metadata": {
        "id": "RTpOLO1pTdW7"
      }
    },
    {
      "cell_type": "markdown",
      "source": [
        "Посмотрим как выглядят первые 5 записей датасета:"
      ],
      "metadata": {
        "id": "doCyIzWXaWwD"
      }
    },
    {
      "cell_type": "code",
      "source": [
        "df_parkinson.head()"
      ],
      "metadata": {
        "colab": {
          "base_uri": "https://localhost:8080/",
          "height": 256
        },
        "id": "KmbfTp0HXpnU",
        "outputId": "8e4a586a-4937-4945-c49b-4b5a45fa9944"
      },
      "execution_count": null,
      "outputs": [
        {
          "output_type": "execute_result",
          "data": {
            "text/plain": [
              "             name  MDVP:Fo(Hz)  MDVP:Fhi(Hz)  MDVP:Flo(Hz)  MDVP:Jitter(%)  \\\n",
              "0  phon_R01_S01_1      119.992       157.302        74.997         0.00784   \n",
              "1  phon_R01_S01_2      122.400       148.650       113.819         0.00968   \n",
              "2  phon_R01_S01_3      116.682       131.111       111.555         0.01050   \n",
              "3  phon_R01_S01_4      116.676       137.871       111.366         0.00997   \n",
              "4  phon_R01_S01_5      116.014       141.781       110.655         0.01284   \n",
              "\n",
              "   MDVP:Jitter(Abs)  MDVP:RAP  MDVP:PPQ  Jitter:DDP  MDVP:Shimmer  ...  \\\n",
              "0           0.00007   0.00370   0.00554     0.01109       0.04374  ...   \n",
              "1           0.00008   0.00465   0.00696     0.01394       0.06134  ...   \n",
              "2           0.00009   0.00544   0.00781     0.01633       0.05233  ...   \n",
              "3           0.00009   0.00502   0.00698     0.01505       0.05492  ...   \n",
              "4           0.00011   0.00655   0.00908     0.01966       0.06425  ...   \n",
              "\n",
              "   Shimmer:DDA      NHR     HNR  status      RPDE       DFA   spread1  \\\n",
              "0      0.06545  0.02211  21.033       1  0.414783  0.815285 -4.813031   \n",
              "1      0.09403  0.01929  19.085       1  0.458359  0.819521 -4.075192   \n",
              "2      0.08270  0.01309  20.651       1  0.429895  0.825288 -4.443179   \n",
              "3      0.08771  0.01353  20.644       1  0.434969  0.819235 -4.117501   \n",
              "4      0.10470  0.01767  19.649       1  0.417356  0.823484 -3.747787   \n",
              "\n",
              "    spread2        D2       PPE  \n",
              "0  0.266482  2.301442  0.284654  \n",
              "1  0.335590  2.486855  0.368674  \n",
              "2  0.311173  2.342259  0.332634  \n",
              "3  0.334147  2.405554  0.368975  \n",
              "4  0.234513  2.332180  0.410335  \n",
              "\n",
              "[5 rows x 24 columns]"
            ],
            "text/html": [
              "\n",
              "  <div id=\"df-374b162b-0d33-4c17-91aa-b56bdb18fd1b\" class=\"colab-df-container\">\n",
              "    <div>\n",
              "<style scoped>\n",
              "    .dataframe tbody tr th:only-of-type {\n",
              "        vertical-align: middle;\n",
              "    }\n",
              "\n",
              "    .dataframe tbody tr th {\n",
              "        vertical-align: top;\n",
              "    }\n",
              "\n",
              "    .dataframe thead th {\n",
              "        text-align: right;\n",
              "    }\n",
              "</style>\n",
              "<table border=\"1\" class=\"dataframe\">\n",
              "  <thead>\n",
              "    <tr style=\"text-align: right;\">\n",
              "      <th></th>\n",
              "      <th>name</th>\n",
              "      <th>MDVP:Fo(Hz)</th>\n",
              "      <th>MDVP:Fhi(Hz)</th>\n",
              "      <th>MDVP:Flo(Hz)</th>\n",
              "      <th>MDVP:Jitter(%)</th>\n",
              "      <th>MDVP:Jitter(Abs)</th>\n",
              "      <th>MDVP:RAP</th>\n",
              "      <th>MDVP:PPQ</th>\n",
              "      <th>Jitter:DDP</th>\n",
              "      <th>MDVP:Shimmer</th>\n",
              "      <th>...</th>\n",
              "      <th>Shimmer:DDA</th>\n",
              "      <th>NHR</th>\n",
              "      <th>HNR</th>\n",
              "      <th>status</th>\n",
              "      <th>RPDE</th>\n",
              "      <th>DFA</th>\n",
              "      <th>spread1</th>\n",
              "      <th>spread2</th>\n",
              "      <th>D2</th>\n",
              "      <th>PPE</th>\n",
              "    </tr>\n",
              "  </thead>\n",
              "  <tbody>\n",
              "    <tr>\n",
              "      <th>0</th>\n",
              "      <td>phon_R01_S01_1</td>\n",
              "      <td>119.992</td>\n",
              "      <td>157.302</td>\n",
              "      <td>74.997</td>\n",
              "      <td>0.00784</td>\n",
              "      <td>0.00007</td>\n",
              "      <td>0.00370</td>\n",
              "      <td>0.00554</td>\n",
              "      <td>0.01109</td>\n",
              "      <td>0.04374</td>\n",
              "      <td>...</td>\n",
              "      <td>0.06545</td>\n",
              "      <td>0.02211</td>\n",
              "      <td>21.033</td>\n",
              "      <td>1</td>\n",
              "      <td>0.414783</td>\n",
              "      <td>0.815285</td>\n",
              "      <td>-4.813031</td>\n",
              "      <td>0.266482</td>\n",
              "      <td>2.301442</td>\n",
              "      <td>0.284654</td>\n",
              "    </tr>\n",
              "    <tr>\n",
              "      <th>1</th>\n",
              "      <td>phon_R01_S01_2</td>\n",
              "      <td>122.400</td>\n",
              "      <td>148.650</td>\n",
              "      <td>113.819</td>\n",
              "      <td>0.00968</td>\n",
              "      <td>0.00008</td>\n",
              "      <td>0.00465</td>\n",
              "      <td>0.00696</td>\n",
              "      <td>0.01394</td>\n",
              "      <td>0.06134</td>\n",
              "      <td>...</td>\n",
              "      <td>0.09403</td>\n",
              "      <td>0.01929</td>\n",
              "      <td>19.085</td>\n",
              "      <td>1</td>\n",
              "      <td>0.458359</td>\n",
              "      <td>0.819521</td>\n",
              "      <td>-4.075192</td>\n",
              "      <td>0.335590</td>\n",
              "      <td>2.486855</td>\n",
              "      <td>0.368674</td>\n",
              "    </tr>\n",
              "    <tr>\n",
              "      <th>2</th>\n",
              "      <td>phon_R01_S01_3</td>\n",
              "      <td>116.682</td>\n",
              "      <td>131.111</td>\n",
              "      <td>111.555</td>\n",
              "      <td>0.01050</td>\n",
              "      <td>0.00009</td>\n",
              "      <td>0.00544</td>\n",
              "      <td>0.00781</td>\n",
              "      <td>0.01633</td>\n",
              "      <td>0.05233</td>\n",
              "      <td>...</td>\n",
              "      <td>0.08270</td>\n",
              "      <td>0.01309</td>\n",
              "      <td>20.651</td>\n",
              "      <td>1</td>\n",
              "      <td>0.429895</td>\n",
              "      <td>0.825288</td>\n",
              "      <td>-4.443179</td>\n",
              "      <td>0.311173</td>\n",
              "      <td>2.342259</td>\n",
              "      <td>0.332634</td>\n",
              "    </tr>\n",
              "    <tr>\n",
              "      <th>3</th>\n",
              "      <td>phon_R01_S01_4</td>\n",
              "      <td>116.676</td>\n",
              "      <td>137.871</td>\n",
              "      <td>111.366</td>\n",
              "      <td>0.00997</td>\n",
              "      <td>0.00009</td>\n",
              "      <td>0.00502</td>\n",
              "      <td>0.00698</td>\n",
              "      <td>0.01505</td>\n",
              "      <td>0.05492</td>\n",
              "      <td>...</td>\n",
              "      <td>0.08771</td>\n",
              "      <td>0.01353</td>\n",
              "      <td>20.644</td>\n",
              "      <td>1</td>\n",
              "      <td>0.434969</td>\n",
              "      <td>0.819235</td>\n",
              "      <td>-4.117501</td>\n",
              "      <td>0.334147</td>\n",
              "      <td>2.405554</td>\n",
              "      <td>0.368975</td>\n",
              "    </tr>\n",
              "    <tr>\n",
              "      <th>4</th>\n",
              "      <td>phon_R01_S01_5</td>\n",
              "      <td>116.014</td>\n",
              "      <td>141.781</td>\n",
              "      <td>110.655</td>\n",
              "      <td>0.01284</td>\n",
              "      <td>0.00011</td>\n",
              "      <td>0.00655</td>\n",
              "      <td>0.00908</td>\n",
              "      <td>0.01966</td>\n",
              "      <td>0.06425</td>\n",
              "      <td>...</td>\n",
              "      <td>0.10470</td>\n",
              "      <td>0.01767</td>\n",
              "      <td>19.649</td>\n",
              "      <td>1</td>\n",
              "      <td>0.417356</td>\n",
              "      <td>0.823484</td>\n",
              "      <td>-3.747787</td>\n",
              "      <td>0.234513</td>\n",
              "      <td>2.332180</td>\n",
              "      <td>0.410335</td>\n",
              "    </tr>\n",
              "  </tbody>\n",
              "</table>\n",
              "<p>5 rows × 24 columns</p>\n",
              "</div>\n",
              "    <div class=\"colab-df-buttons\">\n",
              "\n",
              "  <div class=\"colab-df-container\">\n",
              "    <button class=\"colab-df-convert\" onclick=\"convertToInteractive('df-374b162b-0d33-4c17-91aa-b56bdb18fd1b')\"\n",
              "            title=\"Convert this dataframe to an interactive table.\"\n",
              "            style=\"display:none;\">\n",
              "\n",
              "  <svg xmlns=\"http://www.w3.org/2000/svg\" height=\"24px\" viewBox=\"0 -960 960 960\">\n",
              "    <path d=\"M120-120v-720h720v720H120Zm60-500h600v-160H180v160Zm220 220h160v-160H400v160Zm0 220h160v-160H400v160ZM180-400h160v-160H180v160Zm440 0h160v-160H620v160ZM180-180h160v-160H180v160Zm440 0h160v-160H620v160Z\"/>\n",
              "  </svg>\n",
              "    </button>\n",
              "\n",
              "  <style>\n",
              "    .colab-df-container {\n",
              "      display:flex;\n",
              "      gap: 12px;\n",
              "    }\n",
              "\n",
              "    .colab-df-convert {\n",
              "      background-color: #E8F0FE;\n",
              "      border: none;\n",
              "      border-radius: 50%;\n",
              "      cursor: pointer;\n",
              "      display: none;\n",
              "      fill: #1967D2;\n",
              "      height: 32px;\n",
              "      padding: 0 0 0 0;\n",
              "      width: 32px;\n",
              "    }\n",
              "\n",
              "    .colab-df-convert:hover {\n",
              "      background-color: #E2EBFA;\n",
              "      box-shadow: 0px 1px 2px rgba(60, 64, 67, 0.3), 0px 1px 3px 1px rgba(60, 64, 67, 0.15);\n",
              "      fill: #174EA6;\n",
              "    }\n",
              "\n",
              "    .colab-df-buttons div {\n",
              "      margin-bottom: 4px;\n",
              "    }\n",
              "\n",
              "    [theme=dark] .colab-df-convert {\n",
              "      background-color: #3B4455;\n",
              "      fill: #D2E3FC;\n",
              "    }\n",
              "\n",
              "    [theme=dark] .colab-df-convert:hover {\n",
              "      background-color: #434B5C;\n",
              "      box-shadow: 0px 1px 3px 1px rgba(0, 0, 0, 0.15);\n",
              "      filter: drop-shadow(0px 1px 2px rgba(0, 0, 0, 0.3));\n",
              "      fill: #FFFFFF;\n",
              "    }\n",
              "  </style>\n",
              "\n",
              "    <script>\n",
              "      const buttonEl =\n",
              "        document.querySelector('#df-374b162b-0d33-4c17-91aa-b56bdb18fd1b button.colab-df-convert');\n",
              "      buttonEl.style.display =\n",
              "        google.colab.kernel.accessAllowed ? 'block' : 'none';\n",
              "\n",
              "      async function convertToInteractive(key) {\n",
              "        const element = document.querySelector('#df-374b162b-0d33-4c17-91aa-b56bdb18fd1b');\n",
              "        const dataTable =\n",
              "          await google.colab.kernel.invokeFunction('convertToInteractive',\n",
              "                                                    [key], {});\n",
              "        if (!dataTable) return;\n",
              "\n",
              "        const docLinkHtml = 'Like what you see? Visit the ' +\n",
              "          '<a target=\"_blank\" href=https://colab.research.google.com/notebooks/data_table.ipynb>data table notebook</a>'\n",
              "          + ' to learn more about interactive tables.';\n",
              "        element.innerHTML = '';\n",
              "        dataTable['output_type'] = 'display_data';\n",
              "        await google.colab.output.renderOutput(dataTable, element);\n",
              "        const docLink = document.createElement('div');\n",
              "        docLink.innerHTML = docLinkHtml;\n",
              "        element.appendChild(docLink);\n",
              "      }\n",
              "    </script>\n",
              "  </div>\n",
              "\n",
              "\n",
              "<div id=\"df-29103971-c6f0-4bb3-a0db-0de80ef15cf3\">\n",
              "  <button class=\"colab-df-quickchart\" onclick=\"quickchart('df-29103971-c6f0-4bb3-a0db-0de80ef15cf3')\"\n",
              "            title=\"Suggest charts\"\n",
              "            style=\"display:none;\">\n",
              "\n",
              "<svg xmlns=\"http://www.w3.org/2000/svg\" height=\"24px\"viewBox=\"0 0 24 24\"\n",
              "     width=\"24px\">\n",
              "    <g>\n",
              "        <path d=\"M19 3H5c-1.1 0-2 .9-2 2v14c0 1.1.9 2 2 2h14c1.1 0 2-.9 2-2V5c0-1.1-.9-2-2-2zM9 17H7v-7h2v7zm4 0h-2V7h2v10zm4 0h-2v-4h2v4z\"/>\n",
              "    </g>\n",
              "</svg>\n",
              "  </button>\n",
              "\n",
              "<style>\n",
              "  .colab-df-quickchart {\n",
              "      --bg-color: #E8F0FE;\n",
              "      --fill-color: #1967D2;\n",
              "      --hover-bg-color: #E2EBFA;\n",
              "      --hover-fill-color: #174EA6;\n",
              "      --disabled-fill-color: #AAA;\n",
              "      --disabled-bg-color: #DDD;\n",
              "  }\n",
              "\n",
              "  [theme=dark] .colab-df-quickchart {\n",
              "      --bg-color: #3B4455;\n",
              "      --fill-color: #D2E3FC;\n",
              "      --hover-bg-color: #434B5C;\n",
              "      --hover-fill-color: #FFFFFF;\n",
              "      --disabled-bg-color: #3B4455;\n",
              "      --disabled-fill-color: #666;\n",
              "  }\n",
              "\n",
              "  .colab-df-quickchart {\n",
              "    background-color: var(--bg-color);\n",
              "    border: none;\n",
              "    border-radius: 50%;\n",
              "    cursor: pointer;\n",
              "    display: none;\n",
              "    fill: var(--fill-color);\n",
              "    height: 32px;\n",
              "    padding: 0;\n",
              "    width: 32px;\n",
              "  }\n",
              "\n",
              "  .colab-df-quickchart:hover {\n",
              "    background-color: var(--hover-bg-color);\n",
              "    box-shadow: 0 1px 2px rgba(60, 64, 67, 0.3), 0 1px 3px 1px rgba(60, 64, 67, 0.15);\n",
              "    fill: var(--button-hover-fill-color);\n",
              "  }\n",
              "\n",
              "  .colab-df-quickchart-complete:disabled,\n",
              "  .colab-df-quickchart-complete:disabled:hover {\n",
              "    background-color: var(--disabled-bg-color);\n",
              "    fill: var(--disabled-fill-color);\n",
              "    box-shadow: none;\n",
              "  }\n",
              "\n",
              "  .colab-df-spinner {\n",
              "    border: 2px solid var(--fill-color);\n",
              "    border-color: transparent;\n",
              "    border-bottom-color: var(--fill-color);\n",
              "    animation:\n",
              "      spin 1s steps(1) infinite;\n",
              "  }\n",
              "\n",
              "  @keyframes spin {\n",
              "    0% {\n",
              "      border-color: transparent;\n",
              "      border-bottom-color: var(--fill-color);\n",
              "      border-left-color: var(--fill-color);\n",
              "    }\n",
              "    20% {\n",
              "      border-color: transparent;\n",
              "      border-left-color: var(--fill-color);\n",
              "      border-top-color: var(--fill-color);\n",
              "    }\n",
              "    30% {\n",
              "      border-color: transparent;\n",
              "      border-left-color: var(--fill-color);\n",
              "      border-top-color: var(--fill-color);\n",
              "      border-right-color: var(--fill-color);\n",
              "    }\n",
              "    40% {\n",
              "      border-color: transparent;\n",
              "      border-right-color: var(--fill-color);\n",
              "      border-top-color: var(--fill-color);\n",
              "    }\n",
              "    60% {\n",
              "      border-color: transparent;\n",
              "      border-right-color: var(--fill-color);\n",
              "    }\n",
              "    80% {\n",
              "      border-color: transparent;\n",
              "      border-right-color: var(--fill-color);\n",
              "      border-bottom-color: var(--fill-color);\n",
              "    }\n",
              "    90% {\n",
              "      border-color: transparent;\n",
              "      border-bottom-color: var(--fill-color);\n",
              "    }\n",
              "  }\n",
              "</style>\n",
              "\n",
              "  <script>\n",
              "    async function quickchart(key) {\n",
              "      const quickchartButtonEl =\n",
              "        document.querySelector('#' + key + ' button');\n",
              "      quickchartButtonEl.disabled = true;  // To prevent multiple clicks.\n",
              "      quickchartButtonEl.classList.add('colab-df-spinner');\n",
              "      try {\n",
              "        const charts = await google.colab.kernel.invokeFunction(\n",
              "            'suggestCharts', [key], {});\n",
              "      } catch (error) {\n",
              "        console.error('Error during call to suggestCharts:', error);\n",
              "      }\n",
              "      quickchartButtonEl.classList.remove('colab-df-spinner');\n",
              "      quickchartButtonEl.classList.add('colab-df-quickchart-complete');\n",
              "    }\n",
              "    (() => {\n",
              "      let quickchartButtonEl =\n",
              "        document.querySelector('#df-29103971-c6f0-4bb3-a0db-0de80ef15cf3 button');\n",
              "      quickchartButtonEl.style.display =\n",
              "        google.colab.kernel.accessAllowed ? 'block' : 'none';\n",
              "    })();\n",
              "  </script>\n",
              "</div>\n",
              "\n",
              "    </div>\n",
              "  </div>\n"
            ],
            "application/vnd.google.colaboratory.intrinsic+json": {
              "type": "dataframe",
              "variable_name": "df_parkinson"
            }
          },
          "metadata": {},
          "execution_count": 225
        }
      ]
    },
    {
      "cell_type": "markdown",
      "source": [
        "Рассчитаем какое количество субъектов с болезнью паркинсона, а какое количество субъектов здоровых, в датасете. Для этого создадим новый датайфрейм, с колонками  status и quantity."
      ],
      "metadata": {
        "id": "66AzONYhK4oz"
      }
    },
    {
      "cell_type": "code",
      "source": [
        "df_count_parkinson = pd.DataFrame(columns=['status', 'quantity'])\n",
        "df_count_parkinson['status'] = df_parkinson['status'].unique().tolist()\n",
        "df_count_parkinson['quantity'] = df_count_parkinson['status'].apply(lambda x: df_parkinson[(df_parkinson['status'] == x)].shape[0])\n",
        "print(df_count_parkinson.head())"
      ],
      "metadata": {
        "colab": {
          "base_uri": "https://localhost:8080/"
        },
        "id": "kQJtbIFlLST9",
        "outputId": "5345db1f-a193-4b5f-a00b-f0ef8dc5d65b"
      },
      "execution_count": null,
      "outputs": [
        {
          "output_type": "stream",
          "name": "stdout",
          "text": [
            "   status  quantity\n",
            "0       1       147\n",
            "1       0        48\n"
          ]
        }
      ]
    },
    {
      "cell_type": "markdown",
      "source": [
        "Для наглядности визуализируем полученный результат:"
      ],
      "metadata": {
        "id": "NLZwlQbvLoZT"
      }
    },
    {
      "cell_type": "code",
      "source": [
        "sns.barplot(\n",
        "    x='status',\n",
        "    y='quantity',\n",
        "    data=df_count_parkinson,\n",
        "    color='green',)\n",
        "plt.xlabel('Статус')\n",
        "plt.ylabel('Количество субъектов')\n",
        "plt.title('Распределение субъектов по статусу')\n",
        "plt.show()"
      ],
      "metadata": {
        "colab": {
          "base_uri": "https://localhost:8080/",
          "height": 472
        },
        "id": "mCZS9Oo4MVG-",
        "outputId": "58a6d3f3-8da1-45e4-a361-19aefbbad9a8"
      },
      "execution_count": null,
      "outputs": [
        {
          "output_type": "display_data",
          "data": {
            "text/plain": [
              "<Figure size 640x480 with 1 Axes>"
            ],
            "image/png": "[encoded data removed]"
          },
          "metadata": {}
        }
      ]
    },
    {
      "cell_type": "markdown",
      "source": [
        "Из полученных результатов видно, что датасет содержит записи о 147 субъектах с болезнью паркинсона, а 48 субъектах - здоровых.\n",
        "Вывод: данные не сбалансированны.\n",
        "Для качественного обучения модели данные необходимо будем сбалансировать."
      ],
      "metadata": {
        "id": "iDljxwHYeGjA"
      }
    },
    {
      "cell_type": "markdown",
      "source": [
        "### Определение признаков и меток"
      ],
      "metadata": {
        "id": "3_xbNgHQbMv1"
      }
    },
    {
      "cell_type": "markdown",
      "source": [
        "Все столбцы в файле, кроме первого (name) являются числовыми - это признаки.\n",
        "\n",
        "Столбец с метками это status: 0 (отсутствие болезни) или 1 (наличие)."
      ],
      "metadata": {
        "id": "r3sxX_H6acn2"
      }
    },
    {
      "cell_type": "code",
      "source": [
        "X = df_parkinson.drop(['name', 'status'], axis=1) # удаляем столбцы name, status\n",
        "y = df_parkinson['status'] # выбираем только столбец status"
      ],
      "metadata": {
        "id": "IXPkTAXZfqic"
      },
      "execution_count": null,
      "outputs": []
    },
    {
      "cell_type": "markdown",
      "source": [
        "При помощи train_test_split из модуля model_selection библиотеки scikit-learn  разделяем массивы «X» и «y» на тренировочные и тестовые наборы данных (в данном случае 20% от общего объема)."
      ],
      "metadata": {
        "id": "vkJz3O1hgBNs"
      }
    },
    {
      "cell_type": "code",
      "source": [
        "X_train, X_test, y_train, y_test = train_test_split(X, y, test_size=0.2, random_state=7)"
      ],
      "metadata": {
        "id": "c6ViB26ygPMn"
      },
      "execution_count": null,
      "outputs": []
    },
    {
      "cell_type": "code",
      "source": [
        "from imblearn.over_sampling import SMOTE\n",
        "\n",
        "# Для балансировки данных используем метод увеличение выборки - Oversampling\n",
        "oversampler = SMOTE()\n",
        "X_resampled, y_resampled = oversampler.fit_resample(X_train, y_train)"
      ],
      "metadata": {
        "id": "bXQrTtq9ZtcW"
      },
      "execution_count": null,
      "outputs": []
    },
    {
      "cell_type": "markdown",
      "source": [
        "Далее необходимо нормализовать признаки так, чтобы конечные значения находились в интервале от -1 до 1. Для этого применим MinMaxScaler из библиотеки sklearn:"
      ],
      "metadata": {
        "id": "BfKVMq6lh03F"
      }
    },
    {
      "cell_type": "code",
      "source": [
        "from sklearn.preprocessing import MinMaxScaler\n",
        "\n",
        "scaler = MinMaxScaler((-1, 1))\n",
        "X_resampled = scaler.fit_transform(X_resampled)\n",
        "X_test = scaler.transform(X_test)"
      ],
      "metadata": {
        "id": "LxMKDtLLh-1i"
      },
      "execution_count": null,
      "outputs": []
    },
    {
      "cell_type": "markdown",
      "source": [
        "### Создание и обучение модели"
      ],
      "metadata": {
        "id": "dS4D3RraiyD-"
      }
    },
    {
      "cell_type": "code",
      "source": [
        "!pip install --upgrade xgboost # установка библиотеки XGBoost"
      ],
      "metadata": {
        "colab": {
          "base_uri": "https://localhost:8080/"
        },
        "id": "cPrwQKQSkFRY",
        "outputId": "23751ad4-a0cd-48c6-e53e-2358cbb946da"
      },
      "execution_count": null,
      "outputs": [
        {
          "output_type": "stream",
          "name": "stdout",
          "text": [
            "Requirement already satisfied: xgboost in /usr/local/lib/python3.10/dist-packages (2.1.3)\n",
            "Requirement already satisfied: numpy in /usr/local/lib/python3.10/dist-packages (from xgboost) (1.26.4)\n",
            "Requirement already satisfied: nvidia-nccl-cu12 in /usr/local/lib/python3.10/dist-packages (from xgboost) (2.23.4)\n",
            "Requirement already satisfied: scipy in /usr/local/lib/python3.10/dist-packages (from xgboost) (1.13.1)\n"
          ]
        }
      ]
    },
    {
      "cell_type": "code",
      "source": [
        "import xgboost as xgb\n",
        "classifier_model = xgb.XGBClassifier(eta = 0.02,\n",
        "                                     colsample_bylevel = 0.6,\n",
        "                                     colsample_bytree = 0.8,\n",
        "                                     learning_rate = 0.8,\n",
        "                                     subsample=0.6,\n",
        "                                     seed = 15)\n",
        "classifier_model.fit(X_resampled, y_resampled)"
      ],
      "metadata": {
        "colab": {
          "base_uri": "https://localhost:8080/",
          "height": 248
        },
        "id": "097LvywdjM2s",
        "outputId": "8b9437bb-1b3e-4696-d205-eed9cc2822a7"
      },
      "execution_count": null,
      "outputs": [
        {
          "output_type": "execute_result",
          "data": {
            "text/plain": [
              "XGBClassifier(base_score=None, booster=None, callbacks=None,\n",
              "              colsample_bylevel=0.6, colsample_bynode=None,\n",
              "              colsample_bytree=0.8, device=None, early_stopping_rounds=None,\n",
              "              enable_categorical=False, eta=0.02, eval_metric=None,\n",
              "              feature_types=None, gamma=None, grow_policy=None,\n",
              "              importance_type=None, interaction_constraints=None,\n",
              "              learning_rate=0.8, max_bin=None, max_cat_threshold=None,\n",
              "              max_cat_to_onehot=None, max_delta_step=None, max_depth=None,\n",
              "              max_leaves=None, min_child_weight=None, missing=nan,\n",
              "              monotone_constraints=None, multi_strategy=None, n_estimators=None,\n",
              "              n_jobs=None, num_parallel_tree=None, ...)"
            ],
            "text/html": [
              "<style>#sk-container-id-15 {color: black;}#sk-container-id-15 pre{padding: 0;}#sk-container-id-15 div.sk-toggleable {background-color: white;}#sk-container-id-15 label.sk-toggleable__label {cursor: pointer;display: block;width: 100%;margin-bottom: 0;padding: 0.3em;box-sizing: border-box;text-align: center;}#sk-container-id-15 label.sk-toggleable__label-arrow:before {content: \"▸\";float: left;margin-right: 0.25em;color: #696969;}#sk-container-id-15 label.sk-toggleable__label-arrow:hover:before {color: black;}#sk-container-id-15 div.sk-estimator:hover label.sk-toggleable__label-arrow:before {color: black;}#sk-container-id-15 div.sk-toggleable__content {max-height: 0;max-width: 0;overflow: hidden;text-align: left;background-color: #f0f8ff;}#sk-container-id-15 div.sk-toggleable__content pre {margin: 0.2em;color: black;border-radius: 0.25em;background-color: #f0f8ff;}#sk-container-id-15 input.sk-toggleable__control:checked~div.sk-toggleable__content {max-height: 200px;max-width: 100%;overflow: auto;}#sk-container-id-15 input.sk-toggleable__control:checked~label.sk-toggleable__label-arrow:before {content: \"▾\";}#sk-container-id-15 div.sk-estimator input.sk-toggleable__control:checked~label.sk-toggleable__label {background-color: #d4ebff;}#sk-container-id-15 div.sk-label input.sk-toggleable__control:checked~label.sk-toggleable__label {background-color: #d4ebff;}#sk-container-id-15 input.sk-hidden--visually {border: 0;clip: rect(1px 1px 1px 1px);clip: rect(1px, 1px, 1px, 1px);height: 1px;margin: -1px;overflow: hidden;padding: 0;position: absolute;width: 1px;}#sk-container-id-15 div.sk-estimator {font-family: monospace;background-color: #f0f8ff;border: 1px dotted black;border-radius: 0.25em;box-sizing: border-box;margin-bottom: 0.5em;}#sk-container-id-15 div.sk-estimator:hover {background-color: #d4ebff;}#sk-container-id-15 div.sk-parallel-item::after {content: \"\";width: 100%;border-bottom: 1px solid gray;flex-grow: 1;}#sk-container-id-15 div.sk-label:hover label.sk-toggleable__label {background-color: #d4ebff;}#sk-container-id-15 div.sk-serial::before {content: \"\";position: absolute;border-left: 1px solid gray;box-sizing: border-box;top: 0;bottom: 0;left: 50%;z-index: 0;}#sk-container-id-15 div.sk-serial {display: flex;flex-direction: column;align-items: center;background-color: white;padding-right: 0.2em;padding-left: 0.2em;position: relative;}#sk-container-id-15 div.sk-item {position: relative;z-index: 1;}#sk-container-id-15 div.sk-parallel {display: flex;align-items: stretch;justify-content: center;background-color: white;position: relative;}#sk-container-id-15 div.sk-item::before, #sk-container-id-15 div.sk-parallel-item::before {content: \"\";position: absolute;border-left: 1px solid gray;box-sizing: border-box;top: 0;bottom: 0;left: 50%;z-index: -1;}#sk-container-id-15 div.sk-parallel-item {display: flex;flex-direction: column;z-index: 1;position: relative;background-color: white;}#sk-container-id-15 div.sk-parallel-item:first-child::after {align-self: flex-end;width: 50%;}#sk-container-id-15 div.sk-parallel-item:last-child::after {align-self: flex-start;width: 50%;}#sk-container-id-15 div.sk-parallel-item:only-child::after {width: 0;}#sk-container-id-15 div.sk-dashed-wrapped {border: 1px dashed gray;margin: 0 0.4em 0.5em 0.4em;box-sizing: border-box;padding-bottom: 0.4em;background-color: white;}#sk-container-id-15 div.sk-label label {font-family: monospace;font-weight: bold;display: inline-block;line-height: 1.2em;}#sk-container-id-15 div.sk-label-container {text-align: center;}#sk-container-id-15 div.sk-container {/* jupyter's `normalize.less` sets `[hidden] { display: none; }` but bootstrap.min.css set `[hidden] { display: none !important; }` so we also need the `!important` here to be able to override the default hidden behavior on the sphinx rendered scikit-learn.org. See: https://github.com/scikit-learn/scikit-learn/issues/21755 */display: inline-block !important;position: relative;}#sk-container-id-15 div.sk-text-repr-fallback {display: none;}</style><div id=\"sk-container-id-15\" class=\"sk-top-container\"><div class=\"sk-text-repr-fallback\"><pre>XGBClassifier(base_score=None, booster=None, callbacks=None,\n",
              "              colsample_bylevel=0.6, colsample_bynode=None,\n",
              "              colsample_bytree=0.8, device=None, early_stopping_rounds=None,\n",
              "              enable_categorical=False, eta=0.02, eval_metric=None,\n",
              "              feature_types=None, gamma=None, grow_policy=None,\n",
              "              importance_type=None, interaction_constraints=None,\n",
              "              learning_rate=0.8, max_bin=None, max_cat_threshold=None,\n",
              "              max_cat_to_onehot=None, max_delta_step=None, max_depth=None,\n",
              "              max_leaves=None, min_child_weight=None, missing=nan,\n",
              "              monotone_constraints=None, multi_strategy=None, n_estimators=None,\n",
              "              n_jobs=None, num_parallel_tree=None, ...)</pre><b>In a Jupyter environment, please rerun this cell to show the HTML representation or trust the notebook. <br />On GitHub, the HTML representation is unable to render, please try loading this page with nbviewer.org.</b></div><div class=\"sk-container\" hidden><div class=\"sk-item\"><div class=\"sk-estimator sk-toggleable\"><input class=\"sk-toggleable__control sk-hidden--visually\" id=\"sk-estimator-id-15\" type=\"checkbox\" checked><label for=\"sk-estimator-id-15\" class=\"sk-toggleable__label sk-toggleable__label-arrow\">XGBClassifier</label><div class=\"sk-toggleable__content\"><pre>XGBClassifier(base_score=None, booster=None, callbacks=None,\n",
              "              colsample_bylevel=0.6, colsample_bynode=None,\n",
              "              colsample_bytree=0.8, device=None, early_stopping_rounds=None,\n",
              "              enable_categorical=False, eta=0.02, eval_metric=None,\n",
              "              feature_types=None, gamma=None, grow_policy=None,\n",
              "              importance_type=None, interaction_constraints=None,\n",
              "              learning_rate=0.8, max_bin=None, max_cat_threshold=None,\n",
              "              max_cat_to_onehot=None, max_delta_step=None, max_depth=None,\n",
              "              max_leaves=None, min_child_weight=None, missing=nan,\n",
              "              monotone_constraints=None, multi_strategy=None, n_estimators=None,\n",
              "              n_jobs=None, num_parallel_tree=None, ...)</pre></div></div></div></div></div>"
            ]
          },
          "metadata": {},
          "execution_count": 233
        }
      ]
    },
    {
      "cell_type": "code",
      "source": [
        "# Предсказание категорий для тестовых данных\n",
        "classifier_model_pred = classifier_model.predict(X_test)\n",
        "# Оценка точности модели\n",
        "print(f\"Точность модели: {accuracy_score(y_test, classifier_model_pred):.2f}\")"
      ],
      "metadata": {
        "colab": {
          "base_uri": "https://localhost:8080/"
        },
        "id": "uYsMzzlGGlBB",
        "outputId": "3bd611ec-9a06-43f4-a5ae-73ebe499bdd2"
      },
      "execution_count": null,
      "outputs": [
        {
          "output_type": "stream",
          "name": "stdout",
          "text": [
            "Точность модели: 0.97\n"
          ]
        }
      ]
    },
    {
      "cell_type": "code",
      "source": [
        "print(\"Точность с разбивкой по меткам :\")\n",
        "print(\"---------------------------\")\n",
        "label_accs = {}\n",
        "unique_labels = y_test.unique()\n",
        "\n",
        "for label in unique_labels:\n",
        "  label_ind = (y_test == label)\n",
        "  # extract predictions for specific true label\n",
        "  pred_label = classifier_model.predict(X_test[label_ind])\n",
        "  labels = y_test[label_ind]\n",
        "  # compute class-wise accuracy\n",
        "  label_accs[accuracy_score(labels, pred_label)] = label\n",
        "for key in sorted(label_accs):\n",
        "  print(f\"Метка {label_accs[key]}: {key:.3f}\")"
      ],
      "metadata": {
        "colab": {
          "base_uri": "https://localhost:8080/"
        },
        "id": "9kKyEv5nHvdH",
        "outputId": "ccf4f464-f08f-4110-97e1-2c28a6c502b4"
      },
      "execution_count": null,
      "outputs": [
        {
          "output_type": "stream",
          "name": "stdout",
          "text": [
            "Точность с разбивкой по меткам :\n",
            "---------------------------\n",
            "Метка 1: 0.969\n",
            "Метка 0: 1.000\n"
          ]
        }
      ]
    },
    {
      "cell_type": "markdown",
      "source": [
        "Видно что модель отлично распознаёт събуектов с болезнью паркинсона - 100% точности, а здоровых субъектов определяет в 96% случаев."
      ],
      "metadata": {
        "id": "DKdI_D9NIo10"
      }
    },
    {
      "cell_type": "markdown",
      "source": [
        "Построим кривую ROC – график, который иллюстрирует производительность классификационной модели при всех возможных порогах классификации. Ось X данного графика представляет собой FPR, т.е ложноположительную частоту, а ось Y — TRP, т.е истинноположительную частоту.\n",
        "\n",
        "\n",
        "Также рассчитаем показатель AUC (Area Under the ROC Curve) — это мера, которая позволяет суммировать производительность модели одним числом, измеряя площадь под кривой ROC. AUC колеблется от 0 до 1, где более высокое значение AUC указывает на более высокую производительность модели. AUC равный 0.5 указывает на отсутствие дискриминационной способности модели, тогда как AUC равный 1.0 означает идеальное различие классов."
      ],
      "metadata": {
        "id": "Fz5cHjlFTOG9"
      }
    },
    {
      "cell_type": "code",
      "source": [
        "# предсказание вероятностей\n",
        "y_pred_proba = classifier_model.predict_proba(X_test)[:, 1]\n",
        "\n",
        "# расчитываем TPR и FPR, используя функцию roc_curve\n",
        "fpr, tpr, _ = roc_curve(y_test, y_pred_proba)\n",
        "auc_Class_ML = roc_auc_score(y_test, y_pred_proba)"
      ],
      "metadata": {
        "id": "UFPTuEiQfQcX"
      },
      "execution_count": null,
      "outputs": []
    },
    {
      "cell_type": "code",
      "source": [
        "# построение ROC кривой\n",
        "plt.figure(figsize=(8, 6))\n",
        "plt.plot(fpr, tpr, color='darkorange', lw=2, label='ROC curve (area = %0.2f)' % auc_Class_ML)\n",
        "plt.plot([0, 1], [0, 1], color='navy', linestyle='--')\n",
        "plt.xlim([0.0, 1.0])\n",
        "plt.ylim([0.0, 1.05])\n",
        "plt.title('Receiver Operating Characteristic')\n",
        "plt.ylabel('True Positive Rate')\n",
        "plt.xlabel('False Positive Rate')\n",
        "plt.legend(loc=\"lower right\")\n",
        "plt.show()"
      ],
      "metadata": {
        "colab": {
          "base_uri": "https://localhost:8080/",
          "height": 564
        },
        "id": "PYkP1VeURcoG",
        "outputId": "24b5e397-09ce-4a07-823a-b09b4e9049b3"
      },
      "execution_count": null,
      "outputs": [
        {
          "output_type": "display_data",
          "data": {
            "text/plain": [
              "<Figure size 800x600 with 1 Axes>"
            ],
            "image/png": "[encoded data removed]"
          },
          "metadata": {}
        }
      ]
    },
    {
      "cell_type": "markdown",
      "source": [
        "Из построенного графика видно хорошую производительность модели - 100%."
      ],
      "metadata": {
        "id": "EuuUbduaT4Pr"
      }
    },
    {
      "cell_type": "markdown",
      "source": [
        "Построим матрицу ошибок и оценим качество классификации:"
      ],
      "metadata": {
        "id": "xDrPE_aRJQNv"
      }
    },
    {
      "cell_type": "code",
      "source": [
        "def show_confusion_matrix(test_labels, test_classes):\n",
        "  # Вычисление матрицы ошибок и ее нормализация\n",
        "  plt.figure(figsize=(5,5))\n",
        "  confusion = confusion_matrix(test_labels, test_classes)\n",
        "  confusion_normalized = confusion / confusion.sum(axis=1, keepdims=True)\n",
        "  axis_labels = unique_labels\n",
        "  ax = sns.heatmap(\n",
        "      confusion_normalized, xticklabels=axis_labels, yticklabels=axis_labels,\n",
        "      cmap='Blues', annot=True, fmt='.4f', square=True)\n",
        "  plt.title(\"Матрица ошибок\")\n",
        "  plt.ylabel(\"Истинные метки\")\n",
        "  plt.xlabel(\"Предсказанные метки\")\n",
        "\n",
        "show_confusion_matrix(y_test, classifier_model_pred)"
      ],
      "metadata": {
        "colab": {
          "base_uri": "https://localhost:8080/",
          "height": 435
        },
        "id": "dl-lU-3MFa6t",
        "outputId": "ca99a8a8-ff0c-4819-bc01-82067ffc683c"
      },
      "execution_count": null,
      "outputs": [
        {
          "output_type": "display_data",
          "data": {
            "text/plain": [
              "<Figure size 500x500 with 2 Axes>"
            ],
            "image/png": "[encoded data removed]"
          },
          "metadata": {}
        }
      ]
    },
    {
      "cell_type": "markdown",
      "source": [
        "### ВЫВОД: модель отлично справляется с обнаружением болезни паркинсона - точность 97%, производительность - 100%."
      ],
      "metadata": {
        "id": "OXf0jgbiJ80D"
      }
    },
    {
      "cell_type": "markdown",
      "source": [
        "# Задача 3. Прогнозирование состояния оборудования по показаниям датчиков"
      ],
      "metadata": {
        "id": "0h-FlbqRibfJ"
      }
    },
    {
      "cell_type": "markdown",
      "source": [
        "### Загрузка данных"
      ],
      "metadata": {
        "id": "hYXM_UxOjYLX"
      }
    },
    {
      "cell_type": "code",
      "source": [
        "!wget https://archive.ics.uci.edu/static/public/601/ai4i+2020+predictive+maintenance+dataset.zip # загружаем данные"
      ],
      "metadata": {
        "colab": {
          "base_uri": "https://localhost:8080/"
        },
        "id": "Tslhf_BD6Gz_",
        "outputId": "4f17b6a4-7990-45d4-fa1e-3e5c136a400d"
      },
      "execution_count": null,
      "outputs": [
        {
          "output_type": "stream",
          "name": "stdout",
          "text": [
            "--2025-01-17 03:20:07--  https://archive.ics.uci.edu/static/public/601/ai4i+2020+predictive+maintenance+dataset.zip\n",
            "Resolving archive.ics.uci.edu (archive.ics.uci.edu)... 128.195.10.252\n",
            "Connecting to archive.ics.uci.edu (archive.ics.uci.edu)|128.195.10.252|:443... connected.\n",
            "HTTP request sent, awaiting response... 200 OK\n",
            "Length: unspecified\n",
            "Saving to: ‘ai4i+2020+predictive+maintenance+dataset.zip’\n",
            "\n",
            "ai4i+2020+predictiv     [   <=>              ] 509.93K   699KB/s    in 0.7s    \n",
            "\n",
            "2025-01-17 03:20:08 (699 KB/s) - ‘ai4i+2020+predictive+maintenance+dataset.zip’ saved [522170]\n",
            "\n"
          ]
        }
      ]
    },
    {
      "cell_type": "code",
      "source": [
        "# Распаковывем датасет в директорию 'the_movies_dataset'\n",
        "!unzip -qo \"ai4i+2020+predictive+maintenance+dataset.zip\" -d ./"
      ],
      "metadata": {
        "id": "I0ymqhOH9A85"
      },
      "execution_count": null,
      "outputs": []
    },
    {
      "cell_type": "code",
      "source": [
        "df_mainteance = pd.read_csv(\"./ai4i2020.csv\") # читаем данные"
      ],
      "metadata": {
        "id": "jMp23oSN6SnD"
      },
      "execution_count": null,
      "outputs": []
    },
    {
      "cell_type": "markdown",
      "source": [
        "Посмотрим информацию о файле:"
      ],
      "metadata": {
        "id": "SyxCkMP3EqZ_"
      }
    },
    {
      "cell_type": "code",
      "source": [
        "df_mainteance.info()"
      ],
      "metadata": {
        "colab": {
          "base_uri": "https://localhost:8080/"
        },
        "id": "U53I6o9tEs17",
        "outputId": "a076531d-a3e1-45a8-9c70-f912443b2eb0"
      },
      "execution_count": null,
      "outputs": [
        {
          "output_type": "stream",
          "name": "stdout",
          "text": [
            "<class 'pandas.core.frame.DataFrame'>\n",
            "RangeIndex: 10000 entries, 0 to 9999\n",
            "Data columns (total 14 columns):\n",
            " #   Column                   Non-Null Count  Dtype  \n",
            "---  ------                   --------------  -----  \n",
            " 0   UDI                      10000 non-null  int64  \n",
            " 1   Product ID               10000 non-null  object \n",
            " 2   Type                     10000 non-null  object \n",
            " 3   Air temperature [K]      10000 non-null  float64\n",
            " 4   Process temperature [K]  10000 non-null  float64\n",
            " 5   Rotational speed [rpm]   10000 non-null  int64  \n",
            " 6   Torque [Nm]              10000 non-null  float64\n",
            " 7   Tool wear [min]          10000 non-null  int64  \n",
            " 8   Machine failure          10000 non-null  int64  \n",
            " 9   TWF                      10000 non-null  int64  \n",
            " 10  HDF                      10000 non-null  int64  \n",
            " 11  PWF                      10000 non-null  int64  \n",
            " 12  OSF                      10000 non-null  int64  \n",
            " 13  RNF                      10000 non-null  int64  \n",
            "dtypes: float64(3), int64(9), object(2)\n",
            "memory usage: 1.1+ MB\n"
          ]
        }
      ]
    },
    {
      "cell_type": "markdown",
      "source": [
        "Из полученной информации видно, что датасет содержит 10000 записей о предиктивном состоянии оборудования - показателях различных датчиков, а также информацию об отказе оборудования - колонка Machine failure.\n",
        "В датасете всего 14 колонок."
      ],
      "metadata": {
        "id": "9wbNEEuTFBts"
      }
    },
    {
      "cell_type": "markdown",
      "source": [
        "| Столбец               | Описание                                                                 |\n",
        "|-----------------------|-------------------------------------------------------------------------|\n",
        "| UDI | Уникальный идентификатор от 1 до 10000 |\n",
        "| Product ID | L (низкое) - 50% качества, M (среднее) - 30% качества, H (высокое) - 20% качества + серийный номер |\n",
        "| Type | Тип |\n",
        "| Air temperature [K] | Температура воздуха [K] |\n",
        "| Process temperature [K] | Температура процесса [K] |\n",
        "| Rotational speed [rpm] | Скорость вращения [об/мин] |\n",
        "| Torque [Nm] | Крутящий момент [Нм] |\n",
        "| Tool wear [min] | Износ инструмента [мин] |\n",
        "| Machine failure | Отказ машины |\n",
        "| TWF | Отказ из-за износа инструмента |\n",
        "| HDF | Отказ из-за рассеивания тепла |\n",
        "| PWF | Отказ питания |\n",
        "| OSF | Отказ от перенапряжения |\n",
        "| RNF | Случайные отказ |"
      ],
      "metadata": {
        "id": "lMhNm6gbL6aw"
      }
    },
    {
      "cell_type": "markdown",
      "source": [
        "Посмотрим как выглядят первые 5 записей датасета:"
      ],
      "metadata": {
        "id": "VQrG20O0WrQ4"
      }
    },
    {
      "cell_type": "code",
      "source": [
        "df_mainteance.head()"
      ],
      "metadata": {
        "colab": {
          "base_uri": "https://localhost:8080/",
          "height": 206
        },
        "id": "xxc2d0gDNf3K",
        "outputId": "e02b605f-1c8b-42ad-8e8a-f35bd6e6a0c0"
      },
      "execution_count": null,
      "outputs": [
        {
          "output_type": "execute_result",
          "data": {
            "text/plain": [
              "   UDI Product ID Type  Air temperature [K]  Process temperature [K]  \\\n",
              "0    1     M14860    M                298.1                    308.6   \n",
              "1    2     L47181    L                298.2                    308.7   \n",
              "2    3     L47182    L                298.1                    308.5   \n",
              "3    4     L47183    L                298.2                    308.6   \n",
              "4    5     L47184    L                298.2                    308.7   \n",
              "\n",
              "   Rotational speed [rpm]  Torque [Nm]  Tool wear [min]  Machine failure  TWF  \\\n",
              "0                    1551         42.8                0                0    0   \n",
              "1                    1408         46.3                3                0    0   \n",
              "2                    1498         49.4                5                0    0   \n",
              "3                    1433         39.5                7                0    0   \n",
              "4                    1408         40.0                9                0    0   \n",
              "\n",
              "   HDF  PWF  OSF  RNF  \n",
              "0    0    0    0    0  \n",
              "1    0    0    0    0  \n",
              "2    0    0    0    0  \n",
              "3    0    0    0    0  \n",
              "4    0    0    0    0  "
            ],
            "text/html": [
              "\n",
              "  <div id=\"df-03d1290e-8f5d-4c42-9a7b-13bc50be617c\" class=\"colab-df-container\">\n",
              "    <div>\n",
              "<style scoped>\n",
              "    .dataframe tbody tr th:only-of-type {\n",
              "        vertical-align: middle;\n",
              "    }\n",
              "\n",
              "    .dataframe tbody tr th {\n",
              "        vertical-align: top;\n",
              "    }\n",
              "\n",
              "    .dataframe thead th {\n",
              "        text-align: right;\n",
              "    }\n",
              "</style>\n",
              "<table border=\"1\" class=\"dataframe\">\n",
              "  <thead>\n",
              "    <tr style=\"text-align: right;\">\n",
              "      <th></th>\n",
              "      <th>UDI</th>\n",
              "      <th>Product ID</th>\n",
              "      <th>Type</th>\n",
              "      <th>Air temperature [K]</th>\n",
              "      <th>Process temperature [K]</th>\n",
              "      <th>Rotational speed [rpm]</th>\n",
              "      <th>Torque [Nm]</th>\n",
              "      <th>Tool wear [min]</th>\n",
              "      <th>Machine failure</th>\n",
              "      <th>TWF</th>\n",
              "      <th>HDF</th>\n",
              "      <th>PWF</th>\n",
              "      <th>OSF</th>\n",
              "      <th>RNF</th>\n",
              "    </tr>\n",
              "  </thead>\n",
              "  <tbody>\n",
              "    <tr>\n",
              "      <th>0</th>\n",
              "      <td>1</td>\n",
              "      <td>M14860</td>\n",
              "      <td>M</td>\n",
              "      <td>298.1</td>\n",
              "      <td>308.6</td>\n",
              "      <td>1551</td>\n",
              "      <td>42.8</td>\n",
              "      <td>0</td>\n",
              "      <td>0</td>\n",
              "      <td>0</td>\n",
              "      <td>0</td>\n",
              "      <td>0</td>\n",
              "      <td>0</td>\n",
              "      <td>0</td>\n",
              "    </tr>\n",
              "    <tr>\n",
              "      <th>1</th>\n",
              "      <td>2</td>\n",
              "      <td>L47181</td>\n",
              "      <td>L</td>\n",
              "      <td>298.2</td>\n",
              "      <td>308.7</td>\n",
              "      <td>1408</td>\n",
              "      <td>46.3</td>\n",
              "      <td>3</td>\n",
              "      <td>0</td>\n",
              "      <td>0</td>\n",
              "      <td>0</td>\n",
              "      <td>0</td>\n",
              "      <td>0</td>\n",
              "      <td>0</td>\n",
              "    </tr>\n",
              "    <tr>\n",
              "      <th>2</th>\n",
              "      <td>3</td>\n",
              "      <td>L47182</td>\n",
              "      <td>L</td>\n",
              "      <td>298.1</td>\n",
              "      <td>308.5</td>\n",
              "      <td>1498</td>\n",
              "      <td>49.4</td>\n",
              "      <td>5</td>\n",
              "      <td>0</td>\n",
              "      <td>0</td>\n",
              "      <td>0</td>\n",
              "      <td>0</td>\n",
              "      <td>0</td>\n",
              "      <td>0</td>\n",
              "    </tr>\n",
              "    <tr>\n",
              "      <th>3</th>\n",
              "      <td>4</td>\n",
              "      <td>L47183</td>\n",
              "      <td>L</td>\n",
              "      <td>298.2</td>\n",
              "      <td>308.6</td>\n",
              "      <td>1433</td>\n",
              "      <td>39.5</td>\n",
              "      <td>7</td>\n",
              "      <td>0</td>\n",
              "      <td>0</td>\n",
              "      <td>0</td>\n",
              "      <td>0</td>\n",
              "      <td>0</td>\n",
              "      <td>0</td>\n",
              "    </tr>\n",
              "    <tr>\n",
              "      <th>4</th>\n",
              "      <td>5</td>\n",
              "      <td>L47184</td>\n",
              "      <td>L</td>\n",
              "      <td>298.2</td>\n",
              "      <td>308.7</td>\n",
              "      <td>1408</td>\n",
              "      <td>40.0</td>\n",
              "      <td>9</td>\n",
              "      <td>0</td>\n",
              "      <td>0</td>\n",
              "      <td>0</td>\n",
              "      <td>0</td>\n",
              "      <td>0</td>\n",
              "      <td>0</td>\n",
              "    </tr>\n",
              "  </tbody>\n",
              "</table>\n",
              "</div>\n",
              "    <div class=\"colab-df-buttons\">\n",
              "\n",
              "  <div class=\"colab-df-container\">\n",
              "    <button class=\"colab-df-convert\" onclick=\"convertToInteractive('df-03d1290e-8f5d-4c42-9a7b-13bc50be617c')\"\n",
              "            title=\"Convert this dataframe to an interactive table.\"\n",
              "            style=\"display:none;\">\n",
              "\n",
              "  <svg xmlns=\"http://www.w3.org/2000/svg\" height=\"24px\" viewBox=\"0 -960 960 960\">\n",
              "    <path d=\"M120-120v-720h720v720H120Zm60-500h600v-160H180v160Zm220 220h160v-160H400v160Zm0 220h160v-160H400v160ZM180-400h160v-160H180v160Zm440 0h160v-160H620v160ZM180-180h160v-160H180v160Zm440 0h160v-160H620v160Z\"/>\n",
              "  </svg>\n",
              "    </button>\n",
              "\n",
              "  <style>\n",
              "    .colab-df-container {\n",
              "      display:flex;\n",
              "      gap: 12px;\n",
              "    }\n",
              "\n",
              "    .colab-df-convert {\n",
              "      background-color: #E8F0FE;\n",
              "      border: none;\n",
              "      border-radius: 50%;\n",
              "      cursor: pointer;\n",
              "      display: none;\n",
              "      fill: #1967D2;\n",
              "      height: 32px;\n",
              "      padding: 0 0 0 0;\n",
              "      width: 32px;\n",
              "    }\n",
              "\n",
              "    .colab-df-convert:hover {\n",
              "      background-color: #E2EBFA;\n",
              "      box-shadow: 0px 1px 2px rgba(60, 64, 67, 0.3), 0px 1px 3px 1px rgba(60, 64, 67, 0.15);\n",
              "      fill: #174EA6;\n",
              "    }\n",
              "\n",
              "    .colab-df-buttons div {\n",
              "      margin-bottom: 4px;\n",
              "    }\n",
              "\n",
              "    [theme=dark] .colab-df-convert {\n",
              "      background-color: #3B4455;\n",
              "      fill: #D2E3FC;\n",
              "    }\n",
              "\n",
              "    [theme=dark] .colab-df-convert:hover {\n",
              "      background-color: #434B5C;\n",
              "      box-shadow: 0px 1px 3px 1px rgba(0, 0, 0, 0.15);\n",
              "      filter: drop-shadow(0px 1px 2px rgba(0, 0, 0, 0.3));\n",
              "      fill: #FFFFFF;\n",
              "    }\n",
              "  </style>\n",
              "\n",
              "    <script>\n",
              "      const buttonEl =\n",
              "        document.querySelector('#df-03d1290e-8f5d-4c42-9a7b-13bc50be617c button.colab-df-convert');\n",
              "      buttonEl.style.display =\n",
              "        google.colab.kernel.accessAllowed ? 'block' : 'none';\n",
              "\n",
              "      async function convertToInteractive(key) {\n",
              "        const element = document.querySelector('#df-03d1290e-8f5d-4c42-9a7b-13bc50be617c');\n",
              "        const dataTable =\n",
              "          await google.colab.kernel.invokeFunction('convertToInteractive',\n",
              "                                                    [key], {});\n",
              "        if (!dataTable) return;\n",
              "\n",
              "        const docLinkHtml = 'Like what you see? Visit the ' +\n",
              "          '<a target=\"_blank\" href=https://colab.research.google.com/notebooks/data_table.ipynb>data table notebook</a>'\n",
              "          + ' to learn more about interactive tables.';\n",
              "        element.innerHTML = '';\n",
              "        dataTable['output_type'] = 'display_data';\n",
              "        await google.colab.output.renderOutput(dataTable, element);\n",
              "        const docLink = document.createElement('div');\n",
              "        docLink.innerHTML = docLinkHtml;\n",
              "        element.appendChild(docLink);\n",
              "      }\n",
              "    </script>\n",
              "  </div>\n",
              "\n",
              "\n",
              "<div id=\"df-5708e7d9-b750-46ac-8e29-28d4c0454a5d\">\n",
              "  <button class=\"colab-df-quickchart\" onclick=\"quickchart('df-5708e7d9-b750-46ac-8e29-28d4c0454a5d')\"\n",
              "            title=\"Suggest charts\"\n",
              "            style=\"display:none;\">\n",
              "\n",
              "<svg xmlns=\"http://www.w3.org/2000/svg\" height=\"24px\"viewBox=\"0 0 24 24\"\n",
              "     width=\"24px\">\n",
              "    <g>\n",
              "        <path d=\"M19 3H5c-1.1 0-2 .9-2 2v14c0 1.1.9 2 2 2h14c1.1 0 2-.9 2-2V5c0-1.1-.9-2-2-2zM9 17H7v-7h2v7zm4 0h-2V7h2v10zm4 0h-2v-4h2v4z\"/>\n",
              "    </g>\n",
              "</svg>\n",
              "  </button>\n",
              "\n",
              "<style>\n",
              "  .colab-df-quickchart {\n",
              "      --bg-color: #E8F0FE;\n",
              "      --fill-color: #1967D2;\n",
              "      --hover-bg-color: #E2EBFA;\n",
              "      --hover-fill-color: #174EA6;\n",
              "      --disabled-fill-color: #AAA;\n",
              "      --disabled-bg-color: #DDD;\n",
              "  }\n",
              "\n",
              "  [theme=dark] .colab-df-quickchart {\n",
              "      --bg-color: #3B4455;\n",
              "      --fill-color: #D2E3FC;\n",
              "      --hover-bg-color: #434B5C;\n",
              "      --hover-fill-color: #FFFFFF;\n",
              "      --disabled-bg-color: #3B4455;\n",
              "      --disabled-fill-color: #666;\n",
              "  }\n",
              "\n",
              "  .colab-df-quickchart {\n",
              "    background-color: var(--bg-color);\n",
              "    border: none;\n",
              "    border-radius: 50%;\n",
              "    cursor: pointer;\n",
              "    display: none;\n",
              "    fill: var(--fill-color);\n",
              "    height: 32px;\n",
              "    padding: 0;\n",
              "    width: 32px;\n",
              "  }\n",
              "\n",
              "  .colab-df-quickchart:hover {\n",
              "    background-color: var(--hover-bg-color);\n",
              "    box-shadow: 0 1px 2px rgba(60, 64, 67, 0.3), 0 1px 3px 1px rgba(60, 64, 67, 0.15);\n",
              "    fill: var(--button-hover-fill-color);\n",
              "  }\n",
              "\n",
              "  .colab-df-quickchart-complete:disabled,\n",
              "  .colab-df-quickchart-complete:disabled:hover {\n",
              "    background-color: var(--disabled-bg-color);\n",
              "    fill: var(--disabled-fill-color);\n",
              "    box-shadow: none;\n",
              "  }\n",
              "\n",
              "  .colab-df-spinner {\n",
              "    border: 2px solid var(--fill-color);\n",
              "    border-color: transparent;\n",
              "    border-bottom-color: var(--fill-color);\n",
              "    animation:\n",
              "      spin 1s steps(1) infinite;\n",
              "  }\n",
              "\n",
              "  @keyframes spin {\n",
              "    0% {\n",
              "      border-color: transparent;\n",
              "      border-bottom-color: var(--fill-color);\n",
              "      border-left-color: var(--fill-color);\n",
              "    }\n",
              "    20% {\n",
              "      border-color: transparent;\n",
              "      border-left-color: var(--fill-color);\n",
              "      border-top-color: var(--fill-color);\n",
              "    }\n",
              "    30% {\n",
              "      border-color: transparent;\n",
              "      border-left-color: var(--fill-color);\n",
              "      border-top-color: var(--fill-color);\n",
              "      border-right-color: var(--fill-color);\n",
              "    }\n",
              "    40% {\n",
              "      border-color: transparent;\n",
              "      border-right-color: var(--fill-color);\n",
              "      border-top-color: var(--fill-color);\n",
              "    }\n",
              "    60% {\n",
              "      border-color: transparent;\n",
              "      border-right-color: var(--fill-color);\n",
              "    }\n",
              "    80% {\n",
              "      border-color: transparent;\n",
              "      border-right-color: var(--fill-color);\n",
              "      border-bottom-color: var(--fill-color);\n",
              "    }\n",
              "    90% {\n",
              "      border-color: transparent;\n",
              "      border-bottom-color: var(--fill-color);\n",
              "    }\n",
              "  }\n",
              "</style>\n",
              "\n",
              "  <script>\n",
              "    async function quickchart(key) {\n",
              "      const quickchartButtonEl =\n",
              "        document.querySelector('#' + key + ' button');\n",
              "      quickchartButtonEl.disabled = true;  // To prevent multiple clicks.\n",
              "      quickchartButtonEl.classList.add('colab-df-spinner');\n",
              "      try {\n",
              "        const charts = await google.colab.kernel.invokeFunction(\n",
              "            'suggestCharts', [key], {});\n",
              "      } catch (error) {\n",
              "        console.error('Error during call to suggestCharts:', error);\n",
              "      }\n",
              "      quickchartButtonEl.classList.remove('colab-df-spinner');\n",
              "      quickchartButtonEl.classList.add('colab-df-quickchart-complete');\n",
              "    }\n",
              "    (() => {\n",
              "      let quickchartButtonEl =\n",
              "        document.querySelector('#df-5708e7d9-b750-46ac-8e29-28d4c0454a5d button');\n",
              "      quickchartButtonEl.style.display =\n",
              "        google.colab.kernel.accessAllowed ? 'block' : 'none';\n",
              "    })();\n",
              "  </script>\n",
              "</div>\n",
              "\n",
              "    </div>\n",
              "  </div>\n"
            ],
            "application/vnd.google.colaboratory.intrinsic+json": {
              "type": "dataframe",
              "variable_name": "df_mainteance",
              "summary": "{\n  \"name\": \"df_mainteance\",\n  \"rows\": 10000,\n  \"fields\": [\n    {\n      \"column\": \"UDI\",\n      \"properties\": {\n        \"dtype\": \"number\",\n        \"std\": 2886,\n        \"min\": 1,\n        \"max\": 10000,\n        \"num_unique_values\": 10000,\n        \"samples\": [\n          6253,\n          4685,\n          1732\n        ],\n        \"semantic_type\": \"\",\n        \"description\": \"\"\n      }\n    },\n    {\n      \"column\": \"Product ID\",\n      \"properties\": {\n        \"dtype\": \"string\",\n        \"num_unique_values\": 10000,\n        \"samples\": [\n          \"L53432\",\n          \"M19544\",\n          \"M16591\"\n        ],\n        \"semantic_type\": \"\",\n        \"description\": \"\"\n      }\n    },\n    {\n      \"column\": \"Type\",\n      \"properties\": {\n        \"dtype\": \"category\",\n        \"num_unique_values\": 3,\n        \"samples\": [\n          \"M\",\n          \"L\",\n          \"H\"\n        ],\n        \"semantic_type\": \"\",\n        \"description\": \"\"\n      }\n    },\n    {\n      \"column\": \"Air temperature [K]\",\n      \"properties\": {\n        \"dtype\": \"number\",\n        \"std\": 2.0002586829157574,\n        \"min\": 295.3,\n        \"max\": 304.5,\n        \"num_unique_values\": 93,\n        \"samples\": [\n          299.3,\n          296.9,\n          300.8\n        ],\n        \"semantic_type\": \"\",\n        \"description\": \"\"\n      }\n    },\n    {\n      \"column\": \"Process temperature [K]\",\n      \"properties\": {\n        \"dtype\": \"number\",\n        \"std\": 1.4837342191657419,\n        \"min\": 305.7,\n        \"max\": 313.8,\n        \"num_unique_values\": 82,\n        \"samples\": [\n          307.2,\n          308.6,\n          310.1\n        ],\n        \"semantic_type\": \"\",\n        \"description\": \"\"\n      }\n    },\n    {\n      \"column\": \"Rotational speed [rpm]\",\n      \"properties\": {\n        \"dtype\": \"number\",\n        \"std\": 179,\n        \"min\": 1168,\n        \"max\": 2886,\n        \"num_unique_values\": 941,\n        \"samples\": [\n          1274,\n          1576,\n          2010\n        ],\n        \"semantic_type\": \"\",\n        \"description\": \"\"\n      }\n    },\n    {\n      \"column\": \"Torque [Nm]\",\n      \"properties\": {\n        \"dtype\": \"number\",\n        \"std\": 9.968933725121401,\n        \"min\": 3.8,\n        \"max\": 76.6,\n        \"num_unique_values\": 577,\n        \"samples\": [\n          36.1,\n          65.9,\n          12.6\n        ],\n        \"semantic_type\": \"\",\n        \"description\": \"\"\n      }\n    },\n    {\n      \"column\": \"Tool wear [min]\",\n      \"properties\": {\n        \"dtype\": \"number\",\n        \"std\": 63,\n        \"min\": 0,\n        \"max\": 253,\n        \"num_unique_values\": 246,\n        \"samples\": [\n          93,\n          14,\n          215\n        ],\n        \"semantic_type\": \"\",\n        \"description\": \"\"\n      }\n    },\n    {\n      \"column\": \"Machine failure\",\n      \"properties\": {\n        \"dtype\": \"number\",\n        \"std\": 0,\n        \"min\": 0,\n        \"max\": 1,\n        \"num_unique_values\": 2,\n        \"samples\": [\n          1,\n          0\n        ],\n        \"semantic_type\": \"\",\n        \"description\": \"\"\n      }\n    },\n    {\n      \"column\": \"TWF\",\n      \"properties\": {\n        \"dtype\": \"number\",\n        \"std\": 0,\n        \"min\": 0,\n        \"max\": 1,\n        \"num_unique_values\": 2,\n        \"samples\": [\n          1,\n          0\n        ],\n        \"semantic_type\": \"\",\n        \"description\": \"\"\n      }\n    },\n    {\n      \"column\": \"HDF\",\n      \"properties\": {\n        \"dtype\": \"number\",\n        \"std\": 0,\n        \"min\": 0,\n        \"max\": 1,\n        \"num_unique_values\": 2,\n        \"samples\": [\n          1,\n          0\n        ],\n        \"semantic_type\": \"\",\n        \"description\": \"\"\n      }\n    },\n    {\n      \"column\": \"PWF\",\n      \"properties\": {\n        \"dtype\": \"number\",\n        \"std\": 0,\n        \"min\": 0,\n        \"max\": 1,\n        \"num_unique_values\": 2,\n        \"samples\": [\n          1,\n          0\n        ],\n        \"semantic_type\": \"\",\n        \"description\": \"\"\n      }\n    },\n    {\n      \"column\": \"OSF\",\n      \"properties\": {\n        \"dtype\": \"number\",\n        \"std\": 0,\n        \"min\": 0,\n        \"max\": 1,\n        \"num_unique_values\": 2,\n        \"samples\": [\n          1,\n          0\n        ],\n        \"semantic_type\": \"\",\n        \"description\": \"\"\n      }\n    },\n    {\n      \"column\": \"RNF\",\n      \"properties\": {\n        \"dtype\": \"number\",\n        \"std\": 0,\n        \"min\": 0,\n        \"max\": 1,\n        \"num_unique_values\": 2,\n        \"samples\": [\n          1,\n          0\n        ],\n        \"semantic_type\": \"\",\n        \"description\": \"\"\n      }\n    }\n  ]\n}"
            }
          },
          "metadata": {},
          "execution_count": 86
        }
      ]
    },
    {
      "cell_type": "markdown",
      "source": [
        "Рассчитаем какое количество оборудование вышло из строя (Machine failure = 1), а какое работает без сбоев (Machine failure = 0), в датасете. Для этого создадим новый датайфрейм, с колонками  failure и quantity."
      ],
      "metadata": {
        "id": "DdJw0c1lX_XM"
      }
    },
    {
      "cell_type": "code",
      "source": [
        "df_count_failure = pd.DataFrame(columns=['failure', 'quantity'])\n",
        "df_count_failure['failure'] = df_mainteance['Machine failure'].unique().tolist()\n",
        "df_count_failure['quantity'] = df_count_failure['failure'].apply(lambda x: df_mainteance[(df_mainteance['Machine failure'] == x)].shape[0])\n",
        "df_count_failure.head()"
      ],
      "metadata": {
        "colab": {
          "base_uri": "https://localhost:8080/",
          "height": 112
        },
        "id": "ntYV-4UsYZ_h",
        "outputId": "04a1bed0-26fc-4b83-9398-2b649a75a113"
      },
      "execution_count": null,
      "outputs": [
        {
          "output_type": "execute_result",
          "data": {
            "text/plain": [
              "   failure  quantity\n",
              "0        0      9661\n",
              "1        1       339"
            ],
            "text/html": [
              "\n",
              "  <div id=\"df-c05a28a9-77d0-40ad-9ab2-733b1d59e482\" class=\"colab-df-container\">\n",
              "    <div>\n",
              "<style scoped>\n",
              "    .dataframe tbody tr th:only-of-type {\n",
              "        vertical-align: middle;\n",
              "    }\n",
              "\n",
              "    .dataframe tbody tr th {\n",
              "        vertical-align: top;\n",
              "    }\n",
              "\n",
              "    .dataframe thead th {\n",
              "        text-align: right;\n",
              "    }\n",
              "</style>\n",
              "<table border=\"1\" class=\"dataframe\">\n",
              "  <thead>\n",
              "    <tr style=\"text-align: right;\">\n",
              "      <th></th>\n",
              "      <th>failure</th>\n",
              "      <th>quantity</th>\n",
              "    </tr>\n",
              "  </thead>\n",
              "  <tbody>\n",
              "    <tr>\n",
              "      <th>0</th>\n",
              "      <td>0</td>\n",
              "      <td>9661</td>\n",
              "    </tr>\n",
              "    <tr>\n",
              "      <th>1</th>\n",
              "      <td>1</td>\n",
              "      <td>339</td>\n",
              "    </tr>\n",
              "  </tbody>\n",
              "</table>\n",
              "</div>\n",
              "    <div class=\"colab-df-buttons\">\n",
              "\n",
              "  <div class=\"colab-df-container\">\n",
              "    <button class=\"colab-df-convert\" onclick=\"convertToInteractive('df-c05a28a9-77d0-40ad-9ab2-733b1d59e482')\"\n",
              "            title=\"Convert this dataframe to an interactive table.\"\n",
              "            style=\"display:none;\">\n",
              "\n",
              "  <svg xmlns=\"http://www.w3.org/2000/svg\" height=\"24px\" viewBox=\"0 -960 960 960\">\n",
              "    <path d=\"M120-120v-720h720v720H120Zm60-500h600v-160H180v160Zm220 220h160v-160H400v160Zm0 220h160v-160H400v160ZM180-400h160v-160H180v160Zm440 0h160v-160H620v160ZM180-180h160v-160H180v160Zm440 0h160v-160H620v160Z\"/>\n",
              "  </svg>\n",
              "    </button>\n",
              "\n",
              "  <style>\n",
              "    .colab-df-container {\n",
              "      display:flex;\n",
              "      gap: 12px;\n",
              "    }\n",
              "\n",
              "    .colab-df-convert {\n",
              "      background-color: #E8F0FE;\n",
              "      border: none;\n",
              "      border-radius: 50%;\n",
              "      cursor: pointer;\n",
              "      display: none;\n",
              "      fill: #1967D2;\n",
              "      height: 32px;\n",
              "      padding: 0 0 0 0;\n",
              "      width: 32px;\n",
              "    }\n",
              "\n",
              "    .colab-df-convert:hover {\n",
              "      background-color: #E2EBFA;\n",
              "      box-shadow: 0px 1px 2px rgba(60, 64, 67, 0.3), 0px 1px 3px 1px rgba(60, 64, 67, 0.15);\n",
              "      fill: #174EA6;\n",
              "    }\n",
              "\n",
              "    .colab-df-buttons div {\n",
              "      margin-bottom: 4px;\n",
              "    }\n",
              "\n",
              "    [theme=dark] .colab-df-convert {\n",
              "      background-color: #3B4455;\n",
              "      fill: #D2E3FC;\n",
              "    }\n",
              "\n",
              "    [theme=dark] .colab-df-convert:hover {\n",
              "      background-color: #434B5C;\n",
              "      box-shadow: 0px 1px 3px 1px rgba(0, 0, 0, 0.15);\n",
              "      filter: drop-shadow(0px 1px 2px rgba(0, 0, 0, 0.3));\n",
              "      fill: #FFFFFF;\n",
              "    }\n",
              "  </style>\n",
              "\n",
              "    <script>\n",
              "      const buttonEl =\n",
              "        document.querySelector('#df-c05a28a9-77d0-40ad-9ab2-733b1d59e482 button.colab-df-convert');\n",
              "      buttonEl.style.display =\n",
              "        google.colab.kernel.accessAllowed ? 'block' : 'none';\n",
              "\n",
              "      async function convertToInteractive(key) {\n",
              "        const element = document.querySelector('#df-c05a28a9-77d0-40ad-9ab2-733b1d59e482');\n",
              "        const dataTable =\n",
              "          await google.colab.kernel.invokeFunction('convertToInteractive',\n",
              "                                                    [key], {});\n",
              "        if (!dataTable) return;\n",
              "\n",
              "        const docLinkHtml = 'Like what you see? Visit the ' +\n",
              "          '<a target=\"_blank\" href=https://colab.research.google.com/notebooks/data_table.ipynb>data table notebook</a>'\n",
              "          + ' to learn more about interactive tables.';\n",
              "        element.innerHTML = '';\n",
              "        dataTable['output_type'] = 'display_data';\n",
              "        await google.colab.output.renderOutput(dataTable, element);\n",
              "        const docLink = document.createElement('div');\n",
              "        docLink.innerHTML = docLinkHtml;\n",
              "        element.appendChild(docLink);\n",
              "      }\n",
              "    </script>\n",
              "  </div>\n",
              "\n",
              "\n",
              "<div id=\"df-42a41eb4-e5b9-4c34-b44f-e2a7f4548f45\">\n",
              "  <button class=\"colab-df-quickchart\" onclick=\"quickchart('df-42a41eb4-e5b9-4c34-b44f-e2a7f4548f45')\"\n",
              "            title=\"Suggest charts\"\n",
              "            style=\"display:none;\">\n",
              "\n",
              "<svg xmlns=\"http://www.w3.org/2000/svg\" height=\"24px\"viewBox=\"0 0 24 24\"\n",
              "     width=\"24px\">\n",
              "    <g>\n",
              "        <path d=\"M19 3H5c-1.1 0-2 .9-2 2v14c0 1.1.9 2 2 2h14c1.1 0 2-.9 2-2V5c0-1.1-.9-2-2-2zM9 17H7v-7h2v7zm4 0h-2V7h2v10zm4 0h-2v-4h2v4z\"/>\n",
              "    </g>\n",
              "</svg>\n",
              "  </button>\n",
              "\n",
              "<style>\n",
              "  .colab-df-quickchart {\n",
              "      --bg-color: #E8F0FE;\n",
              "      --fill-color: #1967D2;\n",
              "      --hover-bg-color: #E2EBFA;\n",
              "      --hover-fill-color: #174EA6;\n",
              "      --disabled-fill-color: #AAA;\n",
              "      --disabled-bg-color: #DDD;\n",
              "  }\n",
              "\n",
              "  [theme=dark] .colab-df-quickchart {\n",
              "      --bg-color: #3B4455;\n",
              "      --fill-color: #D2E3FC;\n",
              "      --hover-bg-color: #434B5C;\n",
              "      --hover-fill-color: #FFFFFF;\n",
              "      --disabled-bg-color: #3B4455;\n",
              "      --disabled-fill-color: #666;\n",
              "  }\n",
              "\n",
              "  .colab-df-quickchart {\n",
              "    background-color: var(--bg-color);\n",
              "    border: none;\n",
              "    border-radius: 50%;\n",
              "    cursor: pointer;\n",
              "    display: none;\n",
              "    fill: var(--fill-color);\n",
              "    height: 32px;\n",
              "    padding: 0;\n",
              "    width: 32px;\n",
              "  }\n",
              "\n",
              "  .colab-df-quickchart:hover {\n",
              "    background-color: var(--hover-bg-color);\n",
              "    box-shadow: 0 1px 2px rgba(60, 64, 67, 0.3), 0 1px 3px 1px rgba(60, 64, 67, 0.15);\n",
              "    fill: var(--button-hover-fill-color);\n",
              "  }\n",
              "\n",
              "  .colab-df-quickchart-complete:disabled,\n",
              "  .colab-df-quickchart-complete:disabled:hover {\n",
              "    background-color: var(--disabled-bg-color);\n",
              "    fill: var(--disabled-fill-color);\n",
              "    box-shadow: none;\n",
              "  }\n",
              "\n",
              "  .colab-df-spinner {\n",
              "    border: 2px solid var(--fill-color);\n",
              "    border-color: transparent;\n",
              "    border-bottom-color: var(--fill-color);\n",
              "    animation:\n",
              "      spin 1s steps(1) infinite;\n",
              "  }\n",
              "\n",
              "  @keyframes spin {\n",
              "    0% {\n",
              "      border-color: transparent;\n",
              "      border-bottom-color: var(--fill-color);\n",
              "      border-left-color: var(--fill-color);\n",
              "    }\n",
              "    20% {\n",
              "      border-color: transparent;\n",
              "      border-left-color: var(--fill-color);\n",
              "      border-top-color: var(--fill-color);\n",
              "    }\n",
              "    30% {\n",
              "      border-color: transparent;\n",
              "      border-left-color: var(--fill-color);\n",
              "      border-top-color: var(--fill-color);\n",
              "      border-right-color: var(--fill-color);\n",
              "    }\n",
              "    40% {\n",
              "      border-color: transparent;\n",
              "      border-right-color: var(--fill-color);\n",
              "      border-top-color: var(--fill-color);\n",
              "    }\n",
              "    60% {\n",
              "      border-color: transparent;\n",
              "      border-right-color: var(--fill-color);\n",
              "    }\n",
              "    80% {\n",
              "      border-color: transparent;\n",
              "      border-right-color: var(--fill-color);\n",
              "      border-bottom-color: var(--fill-color);\n",
              "    }\n",
              "    90% {\n",
              "      border-color: transparent;\n",
              "      border-bottom-color: var(--fill-color);\n",
              "    }\n",
              "  }\n",
              "</style>\n",
              "\n",
              "  <script>\n",
              "    async function quickchart(key) {\n",
              "      const quickchartButtonEl =\n",
              "        document.querySelector('#' + key + ' button');\n",
              "      quickchartButtonEl.disabled = true;  // To prevent multiple clicks.\n",
              "      quickchartButtonEl.classList.add('colab-df-spinner');\n",
              "      try {\n",
              "        const charts = await google.colab.kernel.invokeFunction(\n",
              "            'suggestCharts', [key], {});\n",
              "      } catch (error) {\n",
              "        console.error('Error during call to suggestCharts:', error);\n",
              "      }\n",
              "      quickchartButtonEl.classList.remove('colab-df-spinner');\n",
              "      quickchartButtonEl.classList.add('colab-df-quickchart-complete');\n",
              "    }\n",
              "    (() => {\n",
              "      let quickchartButtonEl =\n",
              "        document.querySelector('#df-42a41eb4-e5b9-4c34-b44f-e2a7f4548f45 button');\n",
              "      quickchartButtonEl.style.display =\n",
              "        google.colab.kernel.accessAllowed ? 'block' : 'none';\n",
              "    })();\n",
              "  </script>\n",
              "</div>\n",
              "\n",
              "    </div>\n",
              "  </div>\n"
            ],
            "application/vnd.google.colaboratory.intrinsic+json": {
              "type": "dataframe",
              "variable_name": "df_count_failure",
              "summary": "{\n  \"name\": \"df_count_failure\",\n  \"rows\": 2,\n  \"fields\": [\n    {\n      \"column\": \"failure\",\n      \"properties\": {\n        \"dtype\": \"number\",\n        \"std\": 0,\n        \"min\": 0,\n        \"max\": 1,\n        \"num_unique_values\": 2,\n        \"samples\": [\n          1,\n          0\n        ],\n        \"semantic_type\": \"\",\n        \"description\": \"\"\n      }\n    },\n    {\n      \"column\": \"quantity\",\n      \"properties\": {\n        \"dtype\": \"number\",\n        \"std\": 6591,\n        \"min\": 339,\n        \"max\": 9661,\n        \"num_unique_values\": 2,\n        \"samples\": [\n          339,\n          9661\n        ],\n        \"semantic_type\": \"\",\n        \"description\": \"\"\n      }\n    }\n  ]\n}"
            }
          },
          "metadata": {},
          "execution_count": 87
        }
      ]
    },
    {
      "cell_type": "markdown",
      "source": [
        "Построим диаграмму по полученным данным:"
      ],
      "metadata": {
        "id": "RewlHUN-bJXJ"
      }
    },
    {
      "cell_type": "code",
      "source": [
        "sns.barplot(\n",
        "    x='failure',\n",
        "    y='quantity',\n",
        "    data=df_count_failure,\n",
        "    color='blue',)\n",
        "plt.xlabel('Метка выхода из строя')\n",
        "plt.ylabel('Количество')\n",
        "plt.title('Распределение оборудования по меткам')\n",
        "plt.show()"
      ],
      "metadata": {
        "colab": {
          "base_uri": "https://localhost:8080/",
          "height": 472
        },
        "id": "ZnWq70LRbZo2",
        "outputId": "e9e9e470-6640-4f61-9d24-272c56a014c4"
      },
      "execution_count": null,
      "outputs": [
        {
          "output_type": "display_data",
          "data": {
            "text/plain": [
              "<Figure size 640x480 with 1 Axes>"
            ],
            "image/png": "[encoded data removed]"
          },
          "metadata": {}
        }
      ]
    },
    {
      "cell_type": "markdown",
      "source": [
        "Из диаграммы видно что данные сильно не сбалансированы (9661 и 339), соответственно при создании и обучении модели их необходимо сбалансировать."
      ],
      "metadata": {
        "id": "8ZKJSM8GoIRi"
      }
    },
    {
      "cell_type": "markdown",
      "source": [
        "Также построим диаграмму распределения причин отказа оборудования"
      ],
      "metadata": {
        "id": "rHoVNdUwb7cZ"
      }
    },
    {
      "cell_type": "code",
      "source": [
        "df_status_failure = pd.DataFrame(columns=['failure_mode', 'quantity']) # создаём новый датафрейм\n",
        "df_status_failure['failure_mode'] = ['TWF', 'HDF', 'PWF', 'OSF', 'RNF']\n",
        "# Рассчитаем количество отказов оборудования по причинам\n",
        "df_status_failure['quantity'] = df_status_failure['failure_mode'].apply(lambda x: df_mainteance[(df_mainteance[x] == 1)].shape[0])\n",
        "df_status_failure.head()"
      ],
      "metadata": {
        "colab": {
          "base_uri": "https://localhost:8080/",
          "height": 206
        },
        "id": "SgWf_0GtcHX5",
        "outputId": "a2ec687b-8dea-458f-a690-4a12ea4365e6"
      },
      "execution_count": null,
      "outputs": [
        {
          "output_type": "execute_result",
          "data": {
            "text/plain": [
              "  failure_mode  quantity\n",
              "0          TWF        46\n",
              "1          HDF       115\n",
              "2          PWF        95\n",
              "3          OSF        98\n",
              "4          RNF        19"
            ],
            "text/html": [
              "\n",
              "  <div id=\"df-4b11b6a1-a020-4fdc-84b9-086da68e25a3\" class=\"colab-df-container\">\n",
              "    <div>\n",
              "<style scoped>\n",
              "    .dataframe tbody tr th:only-of-type {\n",
              "        vertical-align: middle;\n",
              "    }\n",
              "\n",
              "    .dataframe tbody tr th {\n",
              "        vertical-align: top;\n",
              "    }\n",
              "\n",
              "    .dataframe thead th {\n",
              "        text-align: right;\n",
              "    }\n",
              "</style>\n",
              "<table border=\"1\" class=\"dataframe\">\n",
              "  <thead>\n",
              "    <tr style=\"text-align: right;\">\n",
              "      <th></th>\n",
              "      <th>failure_mode</th>\n",
              "      <th>quantity</th>\n",
              "    </tr>\n",
              "  </thead>\n",
              "  <tbody>\n",
              "    <tr>\n",
              "      <th>0</th>\n",
              "      <td>TWF</td>\n",
              "      <td>46</td>\n",
              "    </tr>\n",
              "    <tr>\n",
              "      <th>1</th>\n",
              "      <td>HDF</td>\n",
              "      <td>115</td>\n",
              "    </tr>\n",
              "    <tr>\n",
              "      <th>2</th>\n",
              "      <td>PWF</td>\n",
              "      <td>95</td>\n",
              "    </tr>\n",
              "    <tr>\n",
              "      <th>3</th>\n",
              "      <td>OSF</td>\n",
              "      <td>98</td>\n",
              "    </tr>\n",
              "    <tr>\n",
              "      <th>4</th>\n",
              "      <td>RNF</td>\n",
              "      <td>19</td>\n",
              "    </tr>\n",
              "  </tbody>\n",
              "</table>\n",
              "</div>\n",
              "    <div class=\"colab-df-buttons\">\n",
              "\n",
              "  <div class=\"colab-df-container\">\n",
              "    <button class=\"colab-df-convert\" onclick=\"convertToInteractive('df-4b11b6a1-a020-4fdc-84b9-086da68e25a3')\"\n",
              "            title=\"Convert this dataframe to an interactive table.\"\n",
              "            style=\"display:none;\">\n",
              "\n",
              "  <svg xmlns=\"http://www.w3.org/2000/svg\" height=\"24px\" viewBox=\"0 -960 960 960\">\n",
              "    <path d=\"M120-120v-720h720v720H120Zm60-500h600v-160H180v160Zm220 220h160v-160H400v160Zm0 220h160v-160H400v160ZM180-400h160v-160H180v160Zm440 0h160v-160H620v160ZM180-180h160v-160H180v160Zm440 0h160v-160H620v160Z\"/>\n",
              "  </svg>\n",
              "    </button>\n",
              "\n",
              "  <style>\n",
              "    .colab-df-container {\n",
              "      display:flex;\n",
              "      gap: 12px;\n",
              "    }\n",
              "\n",
              "    .colab-df-convert {\n",
              "      background-color: #E8F0FE;\n",
              "      border: none;\n",
              "      border-radius: 50%;\n",
              "      cursor: pointer;\n",
              "      display: none;\n",
              "      fill: #1967D2;\n",
              "      height: 32px;\n",
              "      padding: 0 0 0 0;\n",
              "      width: 32px;\n",
              "    }\n",
              "\n",
              "    .colab-df-convert:hover {\n",
              "      background-color: #E2EBFA;\n",
              "      box-shadow: 0px 1px 2px rgba(60, 64, 67, 0.3), 0px 1px 3px 1px rgba(60, 64, 67, 0.15);\n",
              "      fill: #174EA6;\n",
              "    }\n",
              "\n",
              "    .colab-df-buttons div {\n",
              "      margin-bottom: 4px;\n",
              "    }\n",
              "\n",
              "    [theme=dark] .colab-df-convert {\n",
              "      background-color: #3B4455;\n",
              "      fill: #D2E3FC;\n",
              "    }\n",
              "\n",
              "    [theme=dark] .colab-df-convert:hover {\n",
              "      background-color: #434B5C;\n",
              "      box-shadow: 0px 1px 3px 1px rgba(0, 0, 0, 0.15);\n",
              "      filter: drop-shadow(0px 1px 2px rgba(0, 0, 0, 0.3));\n",
              "      fill: #FFFFFF;\n",
              "    }\n",
              "  </style>\n",
              "\n",
              "    <script>\n",
              "      const buttonEl =\n",
              "        document.querySelector('#df-4b11b6a1-a020-4fdc-84b9-086da68e25a3 button.colab-df-convert');\n",
              "      buttonEl.style.display =\n",
              "        google.colab.kernel.accessAllowed ? 'block' : 'none';\n",
              "\n",
              "      async function convertToInteractive(key) {\n",
              "        const element = document.querySelector('#df-4b11b6a1-a020-4fdc-84b9-086da68e25a3');\n",
              "        const dataTable =\n",
              "          await google.colab.kernel.invokeFunction('convertToInteractive',\n",
              "                                                    [key], {});\n",
              "        if (!dataTable) return;\n",
              "\n",
              "        const docLinkHtml = 'Like what you see? Visit the ' +\n",
              "          '<a target=\"_blank\" href=https://colab.research.google.com/notebooks/data_table.ipynb>data table notebook</a>'\n",
              "          + ' to learn more about interactive tables.';\n",
              "        element.innerHTML = '';\n",
              "        dataTable['output_type'] = 'display_data';\n",
              "        await google.colab.output.renderOutput(dataTable, element);\n",
              "        const docLink = document.createElement('div');\n",
              "        docLink.innerHTML = docLinkHtml;\n",
              "        element.appendChild(docLink);\n",
              "      }\n",
              "    </script>\n",
              "  </div>\n",
              "\n",
              "\n",
              "<div id=\"df-1cda9d34-9857-421f-87fb-3c41eceb9aab\">\n",
              "  <button class=\"colab-df-quickchart\" onclick=\"quickchart('df-1cda9d34-9857-421f-87fb-3c41eceb9aab')\"\n",
              "            title=\"Suggest charts\"\n",
              "            style=\"display:none;\">\n",
              "\n",
              "<svg xmlns=\"http://www.w3.org/2000/svg\" height=\"24px\"viewBox=\"0 0 24 24\"\n",
              "     width=\"24px\">\n",
              "    <g>\n",
              "        <path d=\"M19 3H5c-1.1 0-2 .9-2 2v14c0 1.1.9 2 2 2h14c1.1 0 2-.9 2-2V5c0-1.1-.9-2-2-2zM9 17H7v-7h2v7zm4 0h-2V7h2v10zm4 0h-2v-4h2v4z\"/>\n",
              "    </g>\n",
              "</svg>\n",
              "  </button>\n",
              "\n",
              "<style>\n",
              "  .colab-df-quickchart {\n",
              "      --bg-color: #E8F0FE;\n",
              "      --fill-color: #1967D2;\n",
              "      --hover-bg-color: #E2EBFA;\n",
              "      --hover-fill-color: #174EA6;\n",
              "      --disabled-fill-color: #AAA;\n",
              "      --disabled-bg-color: #DDD;\n",
              "  }\n",
              "\n",
              "  [theme=dark] .colab-df-quickchart {\n",
              "      --bg-color: #3B4455;\n",
              "      --fill-color: #D2E3FC;\n",
              "      --hover-bg-color: #434B5C;\n",
              "      --hover-fill-color: #FFFFFF;\n",
              "      --disabled-bg-color: #3B4455;\n",
              "      --disabled-fill-color: #666;\n",
              "  }\n",
              "\n",
              "  .colab-df-quickchart {\n",
              "    background-color: var(--bg-color);\n",
              "    border: none;\n",
              "    border-radius: 50%;\n",
              "    cursor: pointer;\n",
              "    display: none;\n",
              "    fill: var(--fill-color);\n",
              "    height: 32px;\n",
              "    padding: 0;\n",
              "    width: 32px;\n",
              "  }\n",
              "\n",
              "  .colab-df-quickchart:hover {\n",
              "    background-color: var(--hover-bg-color);\n",
              "    box-shadow: 0 1px 2px rgba(60, 64, 67, 0.3), 0 1px 3px 1px rgba(60, 64, 67, 0.15);\n",
              "    fill: var(--button-hover-fill-color);\n",
              "  }\n",
              "\n",
              "  .colab-df-quickchart-complete:disabled,\n",
              "  .colab-df-quickchart-complete:disabled:hover {\n",
              "    background-color: var(--disabled-bg-color);\n",
              "    fill: var(--disabled-fill-color);\n",
              "    box-shadow: none;\n",
              "  }\n",
              "\n",
              "  .colab-df-spinner {\n",
              "    border: 2px solid var(--fill-color);\n",
              "    border-color: transparent;\n",
              "    border-bottom-color: var(--fill-color);\n",
              "    animation:\n",
              "      spin 1s steps(1) infinite;\n",
              "  }\n",
              "\n",
              "  @keyframes spin {\n",
              "    0% {\n",
              "      border-color: transparent;\n",
              "      border-bottom-color: var(--fill-color);\n",
              "      border-left-color: var(--fill-color);\n",
              "    }\n",
              "    20% {\n",
              "      border-color: transparent;\n",
              "      border-left-color: var(--fill-color);\n",
              "      border-top-color: var(--fill-color);\n",
              "    }\n",
              "    30% {\n",
              "      border-color: transparent;\n",
              "      border-left-color: var(--fill-color);\n",
              "      border-top-color: var(--fill-color);\n",
              "      border-right-color: var(--fill-color);\n",
              "    }\n",
              "    40% {\n",
              "      border-color: transparent;\n",
              "      border-right-color: var(--fill-color);\n",
              "      border-top-color: var(--fill-color);\n",
              "    }\n",
              "    60% {\n",
              "      border-color: transparent;\n",
              "      border-right-color: var(--fill-color);\n",
              "    }\n",
              "    80% {\n",
              "      border-color: transparent;\n",
              "      border-right-color: var(--fill-color);\n",
              "      border-bottom-color: var(--fill-color);\n",
              "    }\n",
              "    90% {\n",
              "      border-color: transparent;\n",
              "      border-bottom-color: var(--fill-color);\n",
              "    }\n",
              "  }\n",
              "</style>\n",
              "\n",
              "  <script>\n",
              "    async function quickchart(key) {\n",
              "      const quickchartButtonEl =\n",
              "        document.querySelector('#' + key + ' button');\n",
              "      quickchartButtonEl.disabled = true;  // To prevent multiple clicks.\n",
              "      quickchartButtonEl.classList.add('colab-df-spinner');\n",
              "      try {\n",
              "        const charts = await google.colab.kernel.invokeFunction(\n",
              "            'suggestCharts', [key], {});\n",
              "      } catch (error) {\n",
              "        console.error('Error during call to suggestCharts:', error);\n",
              "      }\n",
              "      quickchartButtonEl.classList.remove('colab-df-spinner');\n",
              "      quickchartButtonEl.classList.add('colab-df-quickchart-complete');\n",
              "    }\n",
              "    (() => {\n",
              "      let quickchartButtonEl =\n",
              "        document.querySelector('#df-1cda9d34-9857-421f-87fb-3c41eceb9aab button');\n",
              "      quickchartButtonEl.style.display =\n",
              "        google.colab.kernel.accessAllowed ? 'block' : 'none';\n",
              "    })();\n",
              "  </script>\n",
              "</div>\n",
              "\n",
              "    </div>\n",
              "  </div>\n"
            ],
            "application/vnd.google.colaboratory.intrinsic+json": {
              "type": "dataframe",
              "variable_name": "df_status_failure",
              "summary": "{\n  \"name\": \"df_status_failure\",\n  \"rows\": 5,\n  \"fields\": [\n    {\n      \"column\": \"failure_mode\",\n      \"properties\": {\n        \"dtype\": \"string\",\n        \"num_unique_values\": 5,\n        \"samples\": [\n          \"HDF\",\n          \"RNF\",\n          \"PWF\"\n        ],\n        \"semantic_type\": \"\",\n        \"description\": \"\"\n      }\n    },\n    {\n      \"column\": \"quantity\",\n      \"properties\": {\n        \"dtype\": \"number\",\n        \"std\": 40,\n        \"min\": 19,\n        \"max\": 115,\n        \"num_unique_values\": 5,\n        \"samples\": [\n          115,\n          19,\n          95\n        ],\n        \"semantic_type\": \"\",\n        \"description\": \"\"\n      }\n    }\n  ]\n}"
            }
          },
          "metadata": {},
          "execution_count": 89
        }
      ]
    },
    {
      "cell_type": "code",
      "source": [
        "sns.barplot(\n",
        "    x='failure_mode',\n",
        "    y='quantity',\n",
        "    data=df_status_failure,\n",
        "    color='orange',)\n",
        "plt.xlabel('Причина отказа оборудования')\n",
        "plt.ylabel('Количество отказов')\n",
        "plt.title('Распределение причин отказа оборудования')\n",
        "plt.show()"
      ],
      "metadata": {
        "colab": {
          "base_uri": "https://localhost:8080/",
          "height": 472
        },
        "id": "_SnArxVZnwRL",
        "outputId": "56ec811c-cbbd-472b-9ed2-db9b1de95469"
      },
      "execution_count": null,
      "outputs": [
        {
          "output_type": "display_data",
          "data": {
            "text/plain": [
              "<Figure size 640x480 with 1 Axes>"
            ],
            "image/png": "[encoded data removed]"
          },
          "metadata": {}
        }
      ]
    },
    {
      "cell_type": "markdown",
      "source": [
        "Из диаграммы видно, что самая частая причина отказа оборудования это HDF - из-за рассеивания тепла, на втором месте OSF - от перенапряжения, на третьем  месте PWF - отказ питания, на четвёртом месте TWF - из-за износа инструмента, а на последнем месте RNF - cлучайный отказ."
      ],
      "metadata": {
        "id": "r-cU77xOouws"
      }
    },
    {
      "cell_type": "markdown",
      "source": [
        "### Определение признаков и меток"
      ],
      "metadata": {
        "id": "deMKkP34v7w0"
      }
    },
    {
      "cell_type": "markdown",
      "source": [
        "Признаками, в данном случае являются все столбцы в файле, исключая первый (UDI), второй (Product ID) и третий (Type), и последние пять столбцов (TWF, HDF, PWF, OSF, RNF), так как это расшифровка причин отказа.\n",
        "\n",
        "Столбец с метками это 'Machine failure': 0 (оборудование исправно) или 1 (отказ оборудования)."
      ],
      "metadata": {
        "id": "0MVgqmO2wP9Z"
      }
    },
    {
      "cell_type": "code",
      "source": [
        "X = df_mainteance[['Air temperature [K]', 'Process temperature [K]', 'Rotational speed [rpm]', 'Torque [Nm]', 'Tool wear [min]']] # выбираем нужные столбцы - признаки\n",
        "y = df_mainteance['Machine failure'] # выбираем только столбец Machine failure - метки"
      ],
      "metadata": {
        "id": "qQm5bZCSy5AB"
      },
      "execution_count": null,
      "outputs": []
    },
    {
      "cell_type": "markdown",
      "source": [
        "При помощи train_test_split из модуля model_selection библиотеки scikit-learn разделяем массивы «X» и «y» на тренировочные и тестовые наборы данных (в данном случае 20% от общего объема)."
      ],
      "metadata": {
        "id": "iI3FLtNM1HLh"
      }
    },
    {
      "cell_type": "code",
      "source": [
        "X_train, X_test, y_train, y_test = train_test_split(X, y, test_size=0.2, random_state=21)"
      ],
      "metadata": {
        "id": "eZB1q2uE1VS5"
      },
      "execution_count": null,
      "outputs": []
    },
    {
      "cell_type": "markdown",
      "source": [
        "Проведём процесс балансировки данных, для этого воспользуемся методом увеличения выборки - Oversampling."
      ],
      "metadata": {
        "id": "FjxO3lEp1htJ"
      }
    },
    {
      "cell_type": "code",
      "source": [
        "from imblearn.over_sampling import SMOTE\n",
        "\n",
        "oversampler = SMOTE()\n",
        "X_resampled, y_resampled = oversampler.fit_resample(X_train, y_train)\n",
        "X_resampled.columns = X_resampled.columns.str.replace(' ', '_').str.replace('[', '_').str.replace(']', '_')\n",
        "X_test.columns = X_test.columns.str.replace(' ', '_').str.replace('[', '_').str.replace(']', '_')"
      ],
      "metadata": {
        "id": "IZlw2YU01grC"
      },
      "execution_count": null,
      "outputs": []
    },
    {
      "cell_type": "markdown",
      "source": [
        "### Создание и обучение модели"
      ],
      "metadata": {
        "id": "wUuEmGqnDnbt"
      }
    },
    {
      "cell_type": "code",
      "source": [
        "!pip install --upgrade xgboost # установка библиотеки XGBoost"
      ],
      "metadata": {
        "colab": {
          "base_uri": "https://localhost:8080/"
        },
        "id": "Kr1ld7AhDs5A",
        "outputId": "a01ffbc0-0c83-4721-b5db-2ad15477c48e"
      },
      "execution_count": null,
      "outputs": [
        {
          "output_type": "stream",
          "name": "stdout",
          "text": [
            "Requirement already satisfied: xgboost in /usr/local/lib/python3.10/dist-packages (2.1.3)\n",
            "Requirement already satisfied: numpy in /usr/local/lib/python3.10/dist-packages (from xgboost) (1.26.4)\n",
            "Requirement already satisfied: nvidia-nccl-cu12 in /usr/local/lib/python3.10/dist-packages (from xgboost) (2.23.4)\n",
            "Requirement already satisfied: scipy in /usr/local/lib/python3.10/dist-packages (from xgboost) (1.13.1)\n"
          ]
        }
      ]
    },
    {
      "cell_type": "code",
      "source": [
        "import xgboost as xgb\n",
        "\n",
        "class_model = xgb.XGBClassifier(eta = 0.01,\n",
        "                                     colsample_bylevel = 0.7,\n",
        "                                     colsample_bytree = 0.9,\n",
        "                                     learning_rate = 0.6,\n",
        "                                     subsample=0.5,\n",
        "                                     seed = 15)\n",
        "\n",
        "class_model.fit(X_resampled, y_resampled)"
      ],
      "metadata": {
        "colab": {
          "base_uri": "https://localhost:8080/",
          "height": 248
        },
        "id": "MCFEkqhyD1SZ",
        "outputId": "bbd33a66-9523-4261-cd5a-7ce6d5b067fb"
      },
      "execution_count": null,
      "outputs": [
        {
          "output_type": "execute_result",
          "data": {
            "text/plain": [
              "XGBClassifier(base_score=None, booster=None, callbacks=None,\n",
              "              colsample_bylevel=0.7, colsample_bynode=None,\n",
              "              colsample_bytree=0.9, device=None, early_stopping_rounds=None,\n",
              "              enable_categorical=False, eta=0.01, eval_metric=None,\n",
              "              feature_types=None, gamma=None, grow_policy=None,\n",
              "              importance_type=None, interaction_constraints=None,\n",
              "              learning_rate=0.6, max_bin=None, max_cat_threshold=None,\n",
              "              max_cat_to_onehot=None, max_delta_step=None, max_depth=None,\n",
              "              max_leaves=None, min_child_weight=None, missing=nan,\n",
              "              monotone_constraints=None, multi_strategy=None, n_estimators=None,\n",
              "              n_jobs=None, num_parallel_tree=None, ...)"
            ],
            "text/html": [
              "<style>#sk-container-id-30 {color: black;}#sk-container-id-30 pre{padding: 0;}#sk-container-id-30 div.sk-toggleable {background-color: white;}#sk-container-id-30 label.sk-toggleable__label {cursor: pointer;display: block;width: 100%;margin-bottom: 0;padding: 0.3em;box-sizing: border-box;text-align: center;}#sk-container-id-30 label.sk-toggleable__label-arrow:before {content: \"▸\";float: left;margin-right: 0.25em;color: #696969;}#sk-container-id-30 label.sk-toggleable__label-arrow:hover:before {color: black;}#sk-container-id-30 div.sk-estimator:hover label.sk-toggleable__label-arrow:before {color: black;}#sk-container-id-30 div.sk-toggleable__content {max-height: 0;max-width: 0;overflow: hidden;text-align: left;background-color: #f0f8ff;}#sk-container-id-30 div.sk-toggleable__content pre {margin: 0.2em;color: black;border-radius: 0.25em;background-color: #f0f8ff;}#sk-container-id-30 input.sk-toggleable__control:checked~div.sk-toggleable__content {max-height: 200px;max-width: 100%;overflow: auto;}#sk-container-id-30 input.sk-toggleable__control:checked~label.sk-toggleable__label-arrow:before {content: \"▾\";}#sk-container-id-30 div.sk-estimator input.sk-toggleable__control:checked~label.sk-toggleable__label {background-color: #d4ebff;}#sk-container-id-30 div.sk-label input.sk-toggleable__control:checked~label.sk-toggleable__label {background-color: #d4ebff;}#sk-container-id-30 input.sk-hidden--visually {border: 0;clip: rect(1px 1px 1px 1px);clip: rect(1px, 1px, 1px, 1px);height: 1px;margin: -1px;overflow: hidden;padding: 0;position: absolute;width: 1px;}#sk-container-id-30 div.sk-estimator {font-family: monospace;background-color: #f0f8ff;border: 1px dotted black;border-radius: 0.25em;box-sizing: border-box;margin-bottom: 0.5em;}#sk-container-id-30 div.sk-estimator:hover {background-color: #d4ebff;}#sk-container-id-30 div.sk-parallel-item::after {content: \"\";width: 100%;border-bottom: 1px solid gray;flex-grow: 1;}#sk-container-id-30 div.sk-label:hover label.sk-toggleable__label {background-color: #d4ebff;}#sk-container-id-30 div.sk-serial::before {content: \"\";position: absolute;border-left: 1px solid gray;box-sizing: border-box;top: 0;bottom: 0;left: 50%;z-index: 0;}#sk-container-id-30 div.sk-serial {display: flex;flex-direction: column;align-items: center;background-color: white;padding-right: 0.2em;padding-left: 0.2em;position: relative;}#sk-container-id-30 div.sk-item {position: relative;z-index: 1;}#sk-container-id-30 div.sk-parallel {display: flex;align-items: stretch;justify-content: center;background-color: white;position: relative;}#sk-container-id-30 div.sk-item::before, #sk-container-id-30 div.sk-parallel-item::before {content: \"\";position: absolute;border-left: 1px solid gray;box-sizing: border-box;top: 0;bottom: 0;left: 50%;z-index: -1;}#sk-container-id-30 div.sk-parallel-item {display: flex;flex-direction: column;z-index: 1;position: relative;background-color: white;}#sk-container-id-30 div.sk-parallel-item:first-child::after {align-self: flex-end;width: 50%;}#sk-container-id-30 div.sk-parallel-item:last-child::after {align-self: flex-start;width: 50%;}#sk-container-id-30 div.sk-parallel-item:only-child::after {width: 0;}#sk-container-id-30 div.sk-dashed-wrapped {border: 1px dashed gray;margin: 0 0.4em 0.5em 0.4em;box-sizing: border-box;padding-bottom: 0.4em;background-color: white;}#sk-container-id-30 div.sk-label label {font-family: monospace;font-weight: bold;display: inline-block;line-height: 1.2em;}#sk-container-id-30 div.sk-label-container {text-align: center;}#sk-container-id-30 div.sk-container {/* jupyter's `normalize.less` sets `[hidden] { display: none; }` but bootstrap.min.css set `[hidden] { display: none !important; }` so we also need the `!important` here to be able to override the default hidden behavior on the sphinx rendered scikit-learn.org. See: https://github.com/scikit-learn/scikit-learn/issues/21755 */display: inline-block !important;position: relative;}#sk-container-id-30 div.sk-text-repr-fallback {display: none;}</style><div id=\"sk-container-id-30\" class=\"sk-top-container\"><div class=\"sk-text-repr-fallback\"><pre>XGBClassifier(base_score=None, booster=None, callbacks=None,\n",
              "              colsample_bylevel=0.7, colsample_bynode=None,\n",
              "              colsample_bytree=0.9, device=None, early_stopping_rounds=None,\n",
              "              enable_categorical=False, eta=0.01, eval_metric=None,\n",
              "              feature_types=None, gamma=None, grow_policy=None,\n",
              "              importance_type=None, interaction_constraints=None,\n",
              "              learning_rate=0.6, max_bin=None, max_cat_threshold=None,\n",
              "              max_cat_to_onehot=None, max_delta_step=None, max_depth=None,\n",
              "              max_leaves=None, min_child_weight=None, missing=nan,\n",
              "              monotone_constraints=None, multi_strategy=None, n_estimators=None,\n",
              "              n_jobs=None, num_parallel_tree=None, ...)</pre><b>In a Jupyter environment, please rerun this cell to show the HTML representation or trust the notebook. <br />On GitHub, the HTML representation is unable to render, please try loading this page with nbviewer.org.</b></div><div class=\"sk-container\" hidden><div class=\"sk-item\"><div class=\"sk-estimator sk-toggleable\"><input class=\"sk-toggleable__control sk-hidden--visually\" id=\"sk-estimator-id-30\" type=\"checkbox\" checked><label for=\"sk-estimator-id-30\" class=\"sk-toggleable__label sk-toggleable__label-arrow\">XGBClassifier</label><div class=\"sk-toggleable__content\"><pre>XGBClassifier(base_score=None, booster=None, callbacks=None,\n",
              "              colsample_bylevel=0.7, colsample_bynode=None,\n",
              "              colsample_bytree=0.9, device=None, early_stopping_rounds=None,\n",
              "              enable_categorical=False, eta=0.01, eval_metric=None,\n",
              "              feature_types=None, gamma=None, grow_policy=None,\n",
              "              importance_type=None, interaction_constraints=None,\n",
              "              learning_rate=0.6, max_bin=None, max_cat_threshold=None,\n",
              "              max_cat_to_onehot=None, max_delta_step=None, max_depth=None,\n",
              "              max_leaves=None, min_child_weight=None, missing=nan,\n",
              "              monotone_constraints=None, multi_strategy=None, n_estimators=None,\n",
              "              n_jobs=None, num_parallel_tree=None, ...)</pre></div></div></div></div></div>"
            ]
          },
          "metadata": {},
          "execution_count": 168
        }
      ]
    },
    {
      "cell_type": "code",
      "source": [
        "# Предсказание категорий для тестовых данных\n",
        "class_model_pred = class_model.predict(X_test)\n",
        "# Оценка точности модели\n",
        "print(f\"Точность модели: {accuracy_score(y_test, class_model_pred):.2f}\")"
      ],
      "metadata": {
        "colab": {
          "base_uri": "https://localhost:8080/"
        },
        "id": "UdM1R-QMRM9b",
        "outputId": "6081b749-ca4b-4a83-e11a-398716fa2d63"
      },
      "execution_count": null,
      "outputs": [
        {
          "output_type": "stream",
          "name": "stdout",
          "text": [
            "Точность модели: 0.96\n"
          ]
        }
      ]
    },
    {
      "cell_type": "code",
      "source": [
        "print(\"Точность с разбивкой по меткам :\")\n",
        "print(\"---------------------------\")\n",
        "label_accs = {}\n",
        "unique_labels = y_test.unique()\n",
        "\n",
        "for label in unique_labels:\n",
        "  label_ind = (y_test == label)\n",
        "  # extract predictions for specific true label\n",
        "  pred_label = class_model.predict(X_test[label_ind])\n",
        "  labels = y_test[label_ind]\n",
        "  # compute class-wise accuracy\n",
        "  label_accs[accuracy_score(labels, pred_label)] = label\n",
        "for key in sorted(label_accs):\n",
        "  print(f\"Метка {label_accs[key]}: {key:.3f}\")"
      ],
      "metadata": {
        "colab": {
          "base_uri": "https://localhost:8080/"
        },
        "id": "NUe83vGnUh5-",
        "outputId": "18160417-f22f-4877-8d91-f4d3b0884bf3"
      },
      "execution_count": null,
      "outputs": [
        {
          "output_type": "stream",
          "name": "stdout",
          "text": [
            "Точность с разбивкой по меткам :\n",
            "---------------------------\n",
            "Метка 1: 0.857\n",
            "Метка 0: 0.963\n"
          ]
        }
      ]
    },
    {
      "cell_type": "markdown",
      "source": [
        "Видно, что модель распознаёт оборудование вышедшее из строя в 85,7% случаев, гораздо лучше модель определяет исправно работающее оборудование - 96,3 % точности."
      ],
      "metadata": {
        "id": "_vtEqEfMU-0N"
      }
    },
    {
      "cell_type": "markdown",
      "source": [
        "Построим кривую ROC, а также рассчитаем показатель AUC для оценки производительности модели."
      ],
      "metadata": {
        "id": "TdHZFcyvVwEG"
      }
    },
    {
      "cell_type": "code",
      "source": [
        "# предсказание вероятностей\n",
        "y_pred_proba = class_model.predict_proba(X_test)[:, 1]\n",
        "\n",
        "# расчитываем TPR и FPR, используя функцию roc_curve\n",
        "fpr, tpr, _ = roc_curve(y_test, y_pred_proba)\n",
        "auc_Class_ML_1 = roc_auc_score(y_test, y_pred_proba)"
      ],
      "metadata": {
        "id": "6KJB8OIaVvfd"
      },
      "execution_count": null,
      "outputs": []
    },
    {
      "cell_type": "code",
      "source": [
        "# построение ROC кривой\n",
        "plt.figure(figsize=(8, 6))\n",
        "plt.plot(fpr, tpr, color='darkorange', lw=2, label='ROC curve (area = %0.2f)' % auc_Class_ML_1)\n",
        "plt.plot([0, 1], [0, 1], color='navy', linestyle='--')\n",
        "plt.xlim([0.0, 1.0])\n",
        "plt.ylim([0.0, 1.05])\n",
        "plt.title('Receiver Operating Characteristic')\n",
        "plt.ylabel('True Positive Rate')\n",
        "plt.xlabel('False Positive Rate')\n",
        "plt.legend(loc=\"lower right\")\n",
        "plt.show()"
      ],
      "metadata": {
        "colab": {
          "base_uri": "https://localhost:8080/",
          "height": 564
        },
        "id": "EOgzzcr0WIkM",
        "outputId": "e424912d-9602-4623-a640-7d9291ee362a"
      },
      "execution_count": null,
      "outputs": [
        {
          "output_type": "display_data",
          "data": {
            "text/plain": [
              "<Figure size 800x600 with 1 Axes>"
            ],
            "image/png": "[encoded data removed]"
          },
          "metadata": {}
        }
      ]
    },
    {
      "cell_type": "markdown",
      "source": [
        "Из построенного графика видно хорошую производительность модели - 97%."
      ],
      "metadata": {
        "id": "UQCUYMqgWggf"
      }
    },
    {
      "cell_type": "markdown",
      "source": [
        "Построим матрицу ошибок и оценим качество классификации:"
      ],
      "metadata": {
        "id": "Vs29FrhgWpGm"
      }
    },
    {
      "cell_type": "code",
      "source": [
        "def show_confusion_matrix(test_labels, test_classes):\n",
        "  # Вычисление матрицы ошибок и ее нормализация\n",
        "  plt.figure(figsize=(5,5))\n",
        "  confusion = confusion_matrix(test_labels, test_classes)\n",
        "  confusion_normalized = confusion / confusion.sum(axis=1, keepdims=True)\n",
        "  axis_labels = unique_labels\n",
        "  ax = sns.heatmap(\n",
        "      confusion_normalized, xticklabels=axis_labels, yticklabels=axis_labels,\n",
        "      cmap='Blues', annot=True, fmt='.4f', square=True)\n",
        "  plt.title(\"Матрица ошибок\")\n",
        "  plt.ylabel(\"Истинные метки\")\n",
        "  plt.xlabel(\"Предсказанные метки\")\n",
        "\n",
        "show_confusion_matrix(y_test, class_model_pred)"
      ],
      "metadata": {
        "colab": {
          "base_uri": "https://localhost:8080/",
          "height": 427
        },
        "id": "Uts2ZDkUWoaQ",
        "outputId": "d5da38f1-c8fa-402c-8154-b126e7973c0a"
      },
      "execution_count": null,
      "outputs": [
        {
          "output_type": "display_data",
          "data": {
            "text/plain": [
              "<Figure size 500x500 with 2 Axes>"
            ],
            "image/png": "[encoded data removed]"
          },
          "metadata": {}
        }
      ]
    },
    {
      "cell_type": "markdown",
      "source": [
        "ВЫВОД: модель неплохо справляется с определением оборудования вышедшего из строя в 85,7% случаев, исправно работающее оборудование модель определяет отлично - 96,3% точности."
      ],
      "metadata": {
        "id": "TxuRSy8BXIsg"
      }
    }
  ]
}